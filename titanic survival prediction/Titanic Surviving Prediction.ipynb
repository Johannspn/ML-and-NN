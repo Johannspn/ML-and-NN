{
 "cells": [
  {
   "cell_type": "markdown",
   "metadata": {
    "colab_type": "text",
    "id": "A-wYJpaYojUw"
   },
   "source": [
    "## Goal and metric"
   ]
  },
  {
   "cell_type": "markdown",
   "metadata": {
    "colab_type": "text",
    "id": "jWDAp1NIonvz"
   },
   "source": [
    "### Goal: To predict if a passenger survived the sinking of the Titanic or not.\n",
    "\n",
    "### Metric: Accuracy, The percentage of passengers the model correctly predict."
   ]
  },
  {
   "cell_type": "markdown",
   "metadata": {
    "colab_type": "text",
    "id": "HNctspGJosTh"
   },
   "source": [
    "### Exploring the Data"
   ]
  },
  {
   "cell_type": "code",
   "execution_count": 1,
   "metadata": {
    "colab": {},
    "colab_type": "code",
    "id": "I4USZfyWo0YN"
   },
   "outputs": [],
   "source": [
    "# import libraries\n",
    "import warnings\n",
    "warnings.filterwarnings('ignore')\n",
    "\n",
    "import pandas as pd \n",
    "import numpy as np\n",
    "import matplotlib.pyplot as plt\n",
    "import seaborn as sns\n",
    "%matplotlib inline"
   ]
  },
  {
   "cell_type": "code",
   "execution_count": 3,
   "metadata": {
    "colab": {
     "base_uri": "https://localhost:8080/",
     "height": 306
    },
    "colab_type": "code",
    "executionInfo": {
     "elapsed": 1453,
     "status": "ok",
     "timestamp": 1550008054479,
     "user": {
      "displayName": "Мария Мацкевичус",
      "photoUrl": "",
      "userId": "00635400777092193911"
     },
     "user_tz": -180
    },
    "id": "k-rtkyDbo4E3",
    "outputId": "d709efea-837a-4569-e1ed-6ee5b1ea31b4"
   },
   "outputs": [
    {
     "name": "stdout",
     "output_type": "stream",
     "text": [
      "<class 'pandas.core.frame.DataFrame'>\n",
      "RangeIndex: 891 entries, 0 to 890\n",
      "Data columns (total 12 columns):\n",
      " #   Column       Non-Null Count  Dtype  \n",
      "---  ------       --------------  -----  \n",
      " 0   PassengerId  891 non-null    int64  \n",
      " 1   Survived     891 non-null    int64  \n",
      " 2   Pclass       891 non-null    int64  \n",
      " 3   Name         891 non-null    object \n",
      " 4   Sex          891 non-null    object \n",
      " 5   Age          714 non-null    float64\n",
      " 6   SibSp        891 non-null    int64  \n",
      " 7   Parch        891 non-null    int64  \n",
      " 8   Ticket       891 non-null    object \n",
      " 9   Fare         891 non-null    float64\n",
      " 10  Cabin        204 non-null    object \n",
      " 11  Embarked     889 non-null    object \n",
      "dtypes: float64(2), int64(5), object(5)\n",
      "memory usage: 83.7+ KB\n"
     ]
    }
   ],
   "source": [
    "# read data and get train info\n",
    "train = pd.read_csv('train.csv')\n",
    "test = pd.read_csv('test.csv')\n",
    "train.info()\n",
    "#test.info()"
   ]
  },
  {
   "cell_type": "code",
   "execution_count": 4,
   "metadata": {},
   "outputs": [
    {
     "data": {
      "text/html": [
       "<div>\n",
       "<style scoped>\n",
       "    .dataframe tbody tr th:only-of-type {\n",
       "        vertical-align: middle;\n",
       "    }\n",
       "\n",
       "    .dataframe tbody tr th {\n",
       "        vertical-align: top;\n",
       "    }\n",
       "\n",
       "    .dataframe thead th {\n",
       "        text-align: right;\n",
       "    }\n",
       "</style>\n",
       "<table border=\"1\" class=\"dataframe\">\n",
       "  <thead>\n",
       "    <tr style=\"text-align: right;\">\n",
       "      <th></th>\n",
       "      <th>PassengerId</th>\n",
       "      <th>Survived</th>\n",
       "      <th>Pclass</th>\n",
       "      <th>Name</th>\n",
       "      <th>Sex</th>\n",
       "      <th>Age</th>\n",
       "      <th>SibSp</th>\n",
       "      <th>Parch</th>\n",
       "      <th>Ticket</th>\n",
       "      <th>Fare</th>\n",
       "      <th>Cabin</th>\n",
       "      <th>Embarked</th>\n",
       "    </tr>\n",
       "  </thead>\n",
       "  <tbody>\n",
       "    <tr>\n",
       "      <th>0</th>\n",
       "      <td>1</td>\n",
       "      <td>0</td>\n",
       "      <td>3</td>\n",
       "      <td>Braund, Mr. Owen Harris</td>\n",
       "      <td>male</td>\n",
       "      <td>22.0</td>\n",
       "      <td>1</td>\n",
       "      <td>0</td>\n",
       "      <td>A/5 21171</td>\n",
       "      <td>7.2500</td>\n",
       "      <td>NaN</td>\n",
       "      <td>S</td>\n",
       "    </tr>\n",
       "    <tr>\n",
       "      <th>1</th>\n",
       "      <td>2</td>\n",
       "      <td>1</td>\n",
       "      <td>1</td>\n",
       "      <td>Cumings, Mrs. John Bradley (Florence Briggs Th...</td>\n",
       "      <td>female</td>\n",
       "      <td>38.0</td>\n",
       "      <td>1</td>\n",
       "      <td>0</td>\n",
       "      <td>PC 17599</td>\n",
       "      <td>71.2833</td>\n",
       "      <td>C85</td>\n",
       "      <td>C</td>\n",
       "    </tr>\n",
       "    <tr>\n",
       "      <th>2</th>\n",
       "      <td>3</td>\n",
       "      <td>1</td>\n",
       "      <td>3</td>\n",
       "      <td>Heikkinen, Miss. Laina</td>\n",
       "      <td>female</td>\n",
       "      <td>26.0</td>\n",
       "      <td>0</td>\n",
       "      <td>0</td>\n",
       "      <td>STON/O2. 3101282</td>\n",
       "      <td>7.9250</td>\n",
       "      <td>NaN</td>\n",
       "      <td>S</td>\n",
       "    </tr>\n",
       "    <tr>\n",
       "      <th>3</th>\n",
       "      <td>4</td>\n",
       "      <td>1</td>\n",
       "      <td>1</td>\n",
       "      <td>Futrelle, Mrs. Jacques Heath (Lily May Peel)</td>\n",
       "      <td>female</td>\n",
       "      <td>35.0</td>\n",
       "      <td>1</td>\n",
       "      <td>0</td>\n",
       "      <td>113803</td>\n",
       "      <td>53.1000</td>\n",
       "      <td>C123</td>\n",
       "      <td>S</td>\n",
       "    </tr>\n",
       "    <tr>\n",
       "      <th>4</th>\n",
       "      <td>5</td>\n",
       "      <td>0</td>\n",
       "      <td>3</td>\n",
       "      <td>Allen, Mr. William Henry</td>\n",
       "      <td>male</td>\n",
       "      <td>35.0</td>\n",
       "      <td>0</td>\n",
       "      <td>0</td>\n",
       "      <td>373450</td>\n",
       "      <td>8.0500</td>\n",
       "      <td>NaN</td>\n",
       "      <td>S</td>\n",
       "    </tr>\n",
       "    <tr>\n",
       "      <th>...</th>\n",
       "      <td>...</td>\n",
       "      <td>...</td>\n",
       "      <td>...</td>\n",
       "      <td>...</td>\n",
       "      <td>...</td>\n",
       "      <td>...</td>\n",
       "      <td>...</td>\n",
       "      <td>...</td>\n",
       "      <td>...</td>\n",
       "      <td>...</td>\n",
       "      <td>...</td>\n",
       "      <td>...</td>\n",
       "    </tr>\n",
       "    <tr>\n",
       "      <th>886</th>\n",
       "      <td>887</td>\n",
       "      <td>0</td>\n",
       "      <td>2</td>\n",
       "      <td>Montvila, Rev. Juozas</td>\n",
       "      <td>male</td>\n",
       "      <td>27.0</td>\n",
       "      <td>0</td>\n",
       "      <td>0</td>\n",
       "      <td>211536</td>\n",
       "      <td>13.0000</td>\n",
       "      <td>NaN</td>\n",
       "      <td>S</td>\n",
       "    </tr>\n",
       "    <tr>\n",
       "      <th>887</th>\n",
       "      <td>888</td>\n",
       "      <td>1</td>\n",
       "      <td>1</td>\n",
       "      <td>Graham, Miss. Margaret Edith</td>\n",
       "      <td>female</td>\n",
       "      <td>19.0</td>\n",
       "      <td>0</td>\n",
       "      <td>0</td>\n",
       "      <td>112053</td>\n",
       "      <td>30.0000</td>\n",
       "      <td>B42</td>\n",
       "      <td>S</td>\n",
       "    </tr>\n",
       "    <tr>\n",
       "      <th>888</th>\n",
       "      <td>889</td>\n",
       "      <td>0</td>\n",
       "      <td>3</td>\n",
       "      <td>Johnston, Miss. Catherine Helen \"Carrie\"</td>\n",
       "      <td>female</td>\n",
       "      <td>NaN</td>\n",
       "      <td>1</td>\n",
       "      <td>2</td>\n",
       "      <td>W./C. 6607</td>\n",
       "      <td>23.4500</td>\n",
       "      <td>NaN</td>\n",
       "      <td>S</td>\n",
       "    </tr>\n",
       "    <tr>\n",
       "      <th>889</th>\n",
       "      <td>890</td>\n",
       "      <td>1</td>\n",
       "      <td>1</td>\n",
       "      <td>Behr, Mr. Karl Howell</td>\n",
       "      <td>male</td>\n",
       "      <td>26.0</td>\n",
       "      <td>0</td>\n",
       "      <td>0</td>\n",
       "      <td>111369</td>\n",
       "      <td>30.0000</td>\n",
       "      <td>C148</td>\n",
       "      <td>C</td>\n",
       "    </tr>\n",
       "    <tr>\n",
       "      <th>890</th>\n",
       "      <td>891</td>\n",
       "      <td>0</td>\n",
       "      <td>3</td>\n",
       "      <td>Dooley, Mr. Patrick</td>\n",
       "      <td>male</td>\n",
       "      <td>32.0</td>\n",
       "      <td>0</td>\n",
       "      <td>0</td>\n",
       "      <td>370376</td>\n",
       "      <td>7.7500</td>\n",
       "      <td>NaN</td>\n",
       "      <td>Q</td>\n",
       "    </tr>\n",
       "  </tbody>\n",
       "</table>\n",
       "<p>891 rows × 12 columns</p>\n",
       "</div>"
      ],
      "text/plain": [
       "     PassengerId  Survived  Pclass  \\\n",
       "0              1         0       3   \n",
       "1              2         1       1   \n",
       "2              3         1       3   \n",
       "3              4         1       1   \n",
       "4              5         0       3   \n",
       "..           ...       ...     ...   \n",
       "886          887         0       2   \n",
       "887          888         1       1   \n",
       "888          889         0       3   \n",
       "889          890         1       1   \n",
       "890          891         0       3   \n",
       "\n",
       "                                                  Name     Sex   Age  SibSp  \\\n",
       "0                              Braund, Mr. Owen Harris    male  22.0      1   \n",
       "1    Cumings, Mrs. John Bradley (Florence Briggs Th...  female  38.0      1   \n",
       "2                               Heikkinen, Miss. Laina  female  26.0      0   \n",
       "3         Futrelle, Mrs. Jacques Heath (Lily May Peel)  female  35.0      1   \n",
       "4                             Allen, Mr. William Henry    male  35.0      0   \n",
       "..                                                 ...     ...   ...    ...   \n",
       "886                              Montvila, Rev. Juozas    male  27.0      0   \n",
       "887                       Graham, Miss. Margaret Edith  female  19.0      0   \n",
       "888           Johnston, Miss. Catherine Helen \"Carrie\"  female   NaN      1   \n",
       "889                              Behr, Mr. Karl Howell    male  26.0      0   \n",
       "890                                Dooley, Mr. Patrick    male  32.0      0   \n",
       "\n",
       "     Parch            Ticket     Fare Cabin Embarked  \n",
       "0        0         A/5 21171   7.2500   NaN        S  \n",
       "1        0          PC 17599  71.2833   C85        C  \n",
       "2        0  STON/O2. 3101282   7.9250   NaN        S  \n",
       "3        0            113803  53.1000  C123        S  \n",
       "4        0            373450   8.0500   NaN        S  \n",
       "..     ...               ...      ...   ...      ...  \n",
       "886      0            211536  13.0000   NaN        S  \n",
       "887      0            112053  30.0000   B42        S  \n",
       "888      2        W./C. 6607  23.4500   NaN        S  \n",
       "889      0            111369  30.0000  C148        C  \n",
       "890      0            370376   7.7500   NaN        Q  \n",
       "\n",
       "[891 rows x 12 columns]"
      ]
     },
     "execution_count": 4,
     "metadata": {},
     "output_type": "execute_result"
    }
   ],
   "source": [
    "train"
   ]
  },
  {
   "cell_type": "code",
   "execution_count": 5,
   "metadata": {
    "colab": {
     "base_uri": "https://localhost:8080/",
     "height": 297
    },
    "colab_type": "code",
    "executionInfo": {
     "elapsed": 699,
     "status": "ok",
     "timestamp": 1550008089758,
     "user": {
      "displayName": "Мария Мацкевичус",
      "photoUrl": "",
      "userId": "00635400777092193911"
     },
     "user_tz": -180
    },
    "id": "be3gMoTqqCp2",
    "outputId": "448fecbd-f367-442a-aaf2-04a0981986c9"
   },
   "outputs": [
    {
     "data": {
      "text/html": [
       "<div>\n",
       "<style scoped>\n",
       "    .dataframe tbody tr th:only-of-type {\n",
       "        vertical-align: middle;\n",
       "    }\n",
       "\n",
       "    .dataframe tbody tr th {\n",
       "        vertical-align: top;\n",
       "    }\n",
       "\n",
       "    .dataframe thead th {\n",
       "        text-align: right;\n",
       "    }\n",
       "</style>\n",
       "<table border=\"1\" class=\"dataframe\">\n",
       "  <thead>\n",
       "    <tr style=\"text-align: right;\">\n",
       "      <th></th>\n",
       "      <th>PassengerId</th>\n",
       "      <th>Survived</th>\n",
       "      <th>Pclass</th>\n",
       "      <th>Age</th>\n",
       "      <th>SibSp</th>\n",
       "      <th>Parch</th>\n",
       "      <th>Fare</th>\n",
       "    </tr>\n",
       "  </thead>\n",
       "  <tbody>\n",
       "    <tr>\n",
       "      <th>count</th>\n",
       "      <td>891.000000</td>\n",
       "      <td>891.000000</td>\n",
       "      <td>891.000000</td>\n",
       "      <td>714.000000</td>\n",
       "      <td>891.000000</td>\n",
       "      <td>891.000000</td>\n",
       "      <td>891.000000</td>\n",
       "    </tr>\n",
       "    <tr>\n",
       "      <th>mean</th>\n",
       "      <td>446.000000</td>\n",
       "      <td>0.383838</td>\n",
       "      <td>2.308642</td>\n",
       "      <td>29.699118</td>\n",
       "      <td>0.523008</td>\n",
       "      <td>0.381594</td>\n",
       "      <td>32.204208</td>\n",
       "    </tr>\n",
       "    <tr>\n",
       "      <th>std</th>\n",
       "      <td>257.353842</td>\n",
       "      <td>0.486592</td>\n",
       "      <td>0.836071</td>\n",
       "      <td>14.526497</td>\n",
       "      <td>1.102743</td>\n",
       "      <td>0.806057</td>\n",
       "      <td>49.693429</td>\n",
       "    </tr>\n",
       "    <tr>\n",
       "      <th>min</th>\n",
       "      <td>1.000000</td>\n",
       "      <td>0.000000</td>\n",
       "      <td>1.000000</td>\n",
       "      <td>0.420000</td>\n",
       "      <td>0.000000</td>\n",
       "      <td>0.000000</td>\n",
       "      <td>0.000000</td>\n",
       "    </tr>\n",
       "    <tr>\n",
       "      <th>25%</th>\n",
       "      <td>223.500000</td>\n",
       "      <td>0.000000</td>\n",
       "      <td>2.000000</td>\n",
       "      <td>20.125000</td>\n",
       "      <td>0.000000</td>\n",
       "      <td>0.000000</td>\n",
       "      <td>7.910400</td>\n",
       "    </tr>\n",
       "    <tr>\n",
       "      <th>50%</th>\n",
       "      <td>446.000000</td>\n",
       "      <td>0.000000</td>\n",
       "      <td>3.000000</td>\n",
       "      <td>28.000000</td>\n",
       "      <td>0.000000</td>\n",
       "      <td>0.000000</td>\n",
       "      <td>14.454200</td>\n",
       "    </tr>\n",
       "    <tr>\n",
       "      <th>75%</th>\n",
       "      <td>668.500000</td>\n",
       "      <td>1.000000</td>\n",
       "      <td>3.000000</td>\n",
       "      <td>38.000000</td>\n",
       "      <td>1.000000</td>\n",
       "      <td>0.000000</td>\n",
       "      <td>31.000000</td>\n",
       "    </tr>\n",
       "    <tr>\n",
       "      <th>max</th>\n",
       "      <td>891.000000</td>\n",
       "      <td>1.000000</td>\n",
       "      <td>3.000000</td>\n",
       "      <td>80.000000</td>\n",
       "      <td>8.000000</td>\n",
       "      <td>6.000000</td>\n",
       "      <td>512.329200</td>\n",
       "    </tr>\n",
       "  </tbody>\n",
       "</table>\n",
       "</div>"
      ],
      "text/plain": [
       "       PassengerId    Survived      Pclass         Age       SibSp  \\\n",
       "count   891.000000  891.000000  891.000000  714.000000  891.000000   \n",
       "mean    446.000000    0.383838    2.308642   29.699118    0.523008   \n",
       "std     257.353842    0.486592    0.836071   14.526497    1.102743   \n",
       "min       1.000000    0.000000    1.000000    0.420000    0.000000   \n",
       "25%     223.500000    0.000000    2.000000   20.125000    0.000000   \n",
       "50%     446.000000    0.000000    3.000000   28.000000    0.000000   \n",
       "75%     668.500000    1.000000    3.000000   38.000000    1.000000   \n",
       "max     891.000000    1.000000    3.000000   80.000000    8.000000   \n",
       "\n",
       "            Parch        Fare  \n",
       "count  891.000000  891.000000  \n",
       "mean     0.381594   32.204208  \n",
       "std      0.806057   49.693429  \n",
       "min      0.000000    0.000000  \n",
       "25%      0.000000    7.910400  \n",
       "50%      0.000000   14.454200  \n",
       "75%      0.000000   31.000000  \n",
       "max      6.000000  512.329200  "
      ]
     },
     "execution_count": 5,
     "metadata": {},
     "output_type": "execute_result"
    }
   ],
   "source": [
    "# get statisitcs  \n",
    "train.describe()"
   ]
  },
  {
   "cell_type": "code",
   "execution_count": 6,
   "metadata": {
    "colab": {
     "base_uri": "https://localhost:8080/",
     "height": 34
    },
    "colab_type": "code",
    "executionInfo": {
     "elapsed": 416,
     "status": "ok",
     "timestamp": 1550008091284,
     "user": {
      "displayName": "Мария Мацкевичус",
      "photoUrl": "",
      "userId": "00635400777092193911"
     },
     "user_tz": -180
    },
    "id": "6cYgXCGiqILm",
    "outputId": "d1787815-c235-48f6-e827-38c04cd33736"
   },
   "outputs": [
    {
     "name": "stdout",
     "output_type": "stream",
     "text": [
      "Overall Survival Rate: 0.384\n"
     ]
    }
   ],
   "source": [
    "# show the overall survival rate \n",
    "print('Overall Survival Rate:', round(train['Survived'].mean(), 3))\n",
    "#print(pd.get_dummies(train['Age']).head())"
   ]
  },
  {
   "cell_type": "markdown",
   "metadata": {
    "colab_type": "text",
    "id": "ucqgtRHnrskL"
   },
   "source": [
    "## Data cleaning and feature selection"
   ]
  },
  {
   "cell_type": "code",
   "execution_count": 7,
   "metadata": {},
   "outputs": [],
   "source": [
    "# Continuous Data Plot\n",
    "def cont_plot(df, feature_name, target_name, palettemap, hue_order, feature_scale): \n",
    "    df['Counts'] = \"\" # A trick to skip using an axis (either x or y) on splitting violinplot\n",
    "    fig, [axis0,axis1] = plt.subplots(1,2,figsize=(10,5))\n",
    "    sns.distplot(df[feature_name], ax=axis0);\n",
    "    sns.violinplot(x=feature_name, y=\"Counts\", hue=target_name, hue_order=hue_order, data=df,\n",
    "                   palette=palettemap, split=True, orient='h', ax=axis1)\n",
    "    axis1.set_xticks(feature_scale)\n",
    "    plt.show()\n",
    "    # WARNING: This will leave Counts column in dataset if you continues to use this dataset\n",
    "\n",
    "# Categorical/Ordinal Data Plot\n",
    "def cat_plot(df, feature_name, target_name, palettemap): \n",
    "    fig, [axis0,axis1] = plt.subplots(1,2,figsize=(10,5))\n",
    "    df[feature_name].value_counts().plot.pie(autopct='%1.1f%%',ax=axis0)\n",
    "    sns.countplot(x=feature_name, hue=target_name, data=df,\n",
    "                  palette=palettemap,ax=axis1)\n",
    "    plt.show()\n",
    "\n",
    "    \n",
    "survival_palette = {0: \"black\", 1: \"orange\"} # Color map for visualization"
   ]
  },
  {
   "cell_type": "code",
   "execution_count": 8,
   "metadata": {
    "colab": {},
    "colab_type": "code",
    "id": "9JGZm3diq5Cr"
   },
   "outputs": [],
   "source": [
    "# get_dummies function\n",
    "def dummies(col,train,test):\n",
    "    train_dum = pd.get_dummies(train[col])\n",
    "    test_dum = pd.get_dummies(test[col])\n",
    "    train = pd.concat([train, train_dum], axis=1)\n",
    "    test = pd.concat([test,test_dum],axis=1)\n",
    "    train.drop(col,axis=1,inplace=True)\n",
    "    test.drop(col,axis=1,inplace=True)\n",
    "    return train, test\n",
    "\n",
    "# delete the useless cols\n",
    "dropping = ['PassengerId', 'Name', 'Ticket']\n",
    "train.drop(dropping,axis=1, inplace=True)\n",
    "test.drop(dropping,axis=1, inplace=True)"
   ]
  },
  {
   "cell_type": "code",
   "execution_count": 9,
   "metadata": {
    "colab": {
     "base_uri": "https://localhost:8080/",
     "height": 365
    },
    "colab_type": "code",
    "executionInfo": {
     "elapsed": 812,
     "status": "ok",
     "timestamp": 1550008187231,
     "user": {
      "displayName": "Мария Мацкевичус",
      "photoUrl": "",
      "userId": "00635400777092193911"
     },
     "user_tz": -180
    },
    "id": "Gz8_4YDSr5N2",
    "outputId": "aa3d40a1-5c06-43ec-9242-500d23341448"
   },
   "outputs": [
    {
     "name": "stdout",
     "output_type": "stream",
     "text": [
      "3    491\n",
      "1    216\n",
      "2    184\n",
      "Name: Pclass, dtype: int64\n"
     ]
    },
    {
     "data": {
      "image/png": "[encoded data removed]",
      "text/plain": [
       "<Figure size 360x360 with 1 Axes>"
      ]
     },
     "metadata": {
      "needs_background": "light"
     },
     "output_type": "display_data"
    }
   ],
   "source": [
    "# pclass\n",
    "# ensure no NA contained\n",
    "print(train.Pclass.value_counts(dropna=False))\n",
    "sns.factorplot('Pclass', 'Survived',data=train, order=[1,2,3])\n",
    "# according to the graph, we found there are huge differences between\n",
    "# each pclass group. keep the ft\n",
    "train, test = dummies('Pclass', train, test)"
   ]
  },
  {
   "cell_type": "code",
   "execution_count": 10,
   "metadata": {
    "colab": {
     "base_uri": "https://localhost:8080/",
     "height": 348
    },
    "colab_type": "code",
    "executionInfo": {
     "elapsed": 771,
     "status": "ok",
     "timestamp": 1550008204643,
     "user": {
      "displayName": "Мария Мацкевичус",
      "photoUrl": "",
      "userId": "00635400777092193911"
     },
     "user_tz": -180
    },
    "id": "JsZwN7Eor_XW",
    "outputId": "80196b4b-4d83-4571-c302-782fcd55e330"
   },
   "outputs": [
    {
     "name": "stdout",
     "output_type": "stream",
     "text": [
      "male      577\n",
      "female    314\n",
      "Name: Sex, dtype: int64\n"
     ]
    },
    {
     "data": {
      "image/png": "[encoded data removed]",
      "text/plain": [
       "<Figure size 360x360 with 1 Axes>"
      ]
     },
     "metadata": {
      "needs_background": "light"
     },
     "output_type": "display_data"
    }
   ],
   "source": [
    "# sex\n",
    "print(train.Sex.value_counts(dropna=False))\n",
    "sns.factorplot('Sex','Survived', data=train)\n",
    "# female survival rate is way better than the male\n",
    "train, test = dummies('Sex', train, test)\n",
    "\n",
    "#train.drop('male',axis=1,inplace=True)\n",
    "#test.drop('male',axis=1,inplace=True)"
   ]
  },
  {
   "cell_type": "code",
   "execution_count": 11,
   "metadata": {},
   "outputs": [
    {
     "name": "stdout",
     "output_type": "stream",
     "text": [
      "177\n"
     ]
    }
   ],
   "source": [
    "#age \n",
    "#dealing the missing data\n",
    "nan_num = train['Age'].isnull().sum()\n",
    "print(nan_num)"
   ]
  },
  {
   "cell_type": "code",
   "execution_count": 12,
   "metadata": {},
   "outputs": [
    {
     "name": "stdout",
     "output_type": "stream",
     "text": [
      "0\n"
     ]
    }
   ],
   "source": [
    "# there are 177 missing value, fill with random int\n",
    "age_mean = train['Age'].mean()\n",
    "age_std = train['Age'].std()\n",
    "filling = np.random.randint(age_mean-age_std, age_mean+age_std, size=nan_num)\n",
    "train['Age'][train['Age'].isnull()==True] = filling\n",
    "nan_num = train['Age'].isnull().sum()\n",
    "print(nan_num)"
   ]
  },
  {
   "cell_type": "code",
   "execution_count": 13,
   "metadata": {},
   "outputs": [],
   "source": [
    "# dealing the missing val in test\n",
    "nan_num = test['Age'].isnull().sum()"
   ]
  },
  {
   "cell_type": "code",
   "execution_count": 14,
   "metadata": {},
   "outputs": [
    {
     "name": "stdout",
     "output_type": "stream",
     "text": [
      "0\n"
     ]
    }
   ],
   "source": [
    "# 86 null\n",
    "age_mean = test['Age'].mean()\n",
    "age_std = test['Age'].std()\n",
    "#print(test['Age'].mean(), test['Age'].std())\n",
    "filling = np.random.randint(age_mean-age_std,age_mean+age_std,size=nan_num)\n",
    "#print(np.random.randint(age_mean-age_std,age_mean+age_std,size=nan_num))\n",
    "test['Age'][test['Age'].isnull()==True]=filling\n",
    "nan_num = test['Age'].isnull().sum()\n",
    "print(nan_num)"
   ]
  },
  {
   "cell_type": "code",
   "execution_count": 15,
   "metadata": {},
   "outputs": [
    {
     "data": {
      "image/png": "[encoded data removed]",
      "text/plain": [
       "<Figure size 720x360 with 2 Axes>"
      ]
     },
     "metadata": {
      "needs_background": "light"
     },
     "output_type": "display_data"
    }
   ],
   "source": [
    "fare_set = train[['Fare','Survived']].copy() # Copy dataframe so method won't leave Counts column in train_set\n",
    "cont_plot(fare_set, 'Fare', 'Survived', survival_palette, [1, 0], range(0,550,50))"
   ]
  },
  {
   "cell_type": "code",
   "execution_count": 16,
   "metadata": {},
   "outputs": [
    {
     "data": {
      "image/png": "[encoded data removed]",
      "text/plain": [
       "<Figure size 720x360 with 1 Axes>"
      ]
     },
     "metadata": {
      "needs_background": "light"
     },
     "output_type": "display_data"
    }
   ],
   "source": [
    "fare_set_mod = train[['Fare','Survived']].copy()\n",
    "fare_set_mod['Counts'] = \"\" \n",
    "fig, axis = plt.subplots(1,1,figsize=(10,5))\n",
    "sns.violinplot(x='Fare', y=\"Counts\", hue='Survived', hue_order=[1, 0], data=fare_set_mod,\n",
    "               palette=survival_palette, split=True, orient='h', ax=axis)\n",
    "axis.set_xticks(range(0,100,10))\n",
    "axis.set_xlim(-20,100)\n",
    "plt.show()"
   ]
  },
  {
   "cell_type": "code",
   "execution_count": 17,
   "metadata": {},
   "outputs": [],
   "source": [
    "#cat_plot(train, 'Fare','Survived', survival_palette)"
   ]
  },
  {
   "cell_type": "code",
   "execution_count": 28,
   "metadata": {},
   "outputs": [
    {
     "data": {
      "text/plain": [
       "0       7.2500\n",
       "1      71.2833\n",
       "2       7.9250\n",
       "3      53.1000\n",
       "4       8.0500\n",
       "        ...   \n",
       "886    13.0000\n",
       "887    30.0000\n",
       "888    23.4500\n",
       "889    30.0000\n",
       "890     7.7500\n",
       "Name: Fare, Length: 891, dtype: float64"
      ]
     },
     "execution_count": 28,
     "metadata": {},
     "output_type": "execute_result"
    }
   ],
   "source": [
    "dataFare=train['Fare']\n",
    "dataFare\n",
    "#dataFare.iloc[1]"
   ]
  },
  {
   "cell_type": "code",
   "execution_count": 31,
   "metadata": {},
   "outputs": [],
   "source": [
    "dataFare=train['Fare']\n",
    "fr=[]\n",
    "#print(dataAge.ix[0,4])\n",
    "\n",
    "\n",
    "for i in range(len(dataFare)):\n",
    "\n",
    "    if dataFare.iloc[i ]< 10:\n",
    "        fr.append(1)\n",
    "    elif dataFare.iloc[i]<= 30:\n",
    "        fr.append(2)\n",
    "    elif dataFare.iloc[i]<= 60:\n",
    "        fr.append(3)\n",
    "    else:\n",
    "        fr.append(4)\n",
    "\n",
    "train['FareRange']=fr\n",
    "\n",
    "\n",
    "dataFare1=test['Fare']\n",
    "fr1=[]\n",
    "#print(dataAge.ix[0,4])\n",
    "\n",
    "\n",
    "for i in range(len(dataFare1)):\n",
    "\n",
    "    if dataFare1.iloc[i]< 10:\n",
    "        fr1.append(1)\n",
    "    elif dataFare1.iloc[i]<= 30:\n",
    "        fr1.append(2)\n",
    "    elif dataFare1.iloc[i]<= 60:\n",
    "        fr1.append(3)\n",
    "    else:\n",
    "        fr1.append(4)\n",
    "\n",
    "test['FareRange']=fr1\n",
    "\n"
   ]
  },
  {
   "cell_type": "code",
   "execution_count": 34,
   "metadata": {},
   "outputs": [
    {
     "data": {
      "text/plain": [
       "0      1\n",
       "1      1\n",
       "2      1\n",
       "3      1\n",
       "4      2\n",
       "      ..\n",
       "413    1\n",
       "414    4\n",
       "415    1\n",
       "416    1\n",
       "417    2\n",
       "Name: FareRange, Length: 418, dtype: int64"
      ]
     },
     "execution_count": 34,
     "metadata": {},
     "output_type": "execute_result"
    }
   ],
   "source": [
    "test['FareRange']"
   ]
  },
  {
   "cell_type": "code",
   "execution_count": 37,
   "metadata": {},
   "outputs": [
    {
     "data": {
      "image/png": "[encoded data removed]",
      "text/plain": [
       "<Figure size 720x360 with 2 Axes>"
      ]
     },
     "metadata": {
      "needs_background": "light"
     },
     "output_type": "display_data"
    }
   ],
   "source": [
    "cat_plot(train, 'FareRange','Survived', survival_palette)"
   ]
  },
  {
   "cell_type": "code",
   "execution_count": 38,
   "metadata": {},
   "outputs": [],
   "source": [
    "#cat_plot(test, 'FareRange','Survived', survival_palette)"
   ]
  },
  {
   "cell_type": "code",
   "execution_count": 41,
   "metadata": {},
   "outputs": [],
   "source": [
    "dataAge=train['Age']\n",
    "ar=[]\n",
    "#print(dataAge.ix[0,4])\n",
    "\n",
    "\n",
    "for i in range(len(dataAge)):\n",
    "\n",
    "    if dataAge.iloc[i]< 15:\n",
    "        ar.append(1)\n",
    "    elif dataAge.iloc[i]<= 35:\n",
    "        ar.append(2)\n",
    "    elif dataAge.iloc[i]<= 45:\n",
    "        ar.append(3)\n",
    "    elif dataAge.iloc[i]<= 60:\n",
    "        ar.append(4)\n",
    "    else:\n",
    "        ar.append(5)\n",
    "\n",
    "train['ageRange']=ar\n",
    "\n",
    "\n",
    "dataAge1=test['Age']\n",
    "ar1=[]\n",
    "#print(dataAge.ix[0,4])\n",
    "\n",
    "\n",
    "for i in range(len(dataAge1)):\n",
    "\n",
    "    if dataAge.iloc[i]< 15:\n",
    "        ar1.append(1)\n",
    "    elif dataAge.iloc[i]<= 35:\n",
    "        ar1.append(2)\n",
    "    elif dataAge.iloc[i]<= 45:\n",
    "        ar1.append(3)\n",
    "    elif dataAge.iloc[i]<= 60:\n",
    "        ar1.append(4)\n",
    "    else:\n",
    "        ar1.append(5)\n",
    "\n",
    "test['ageRange']=ar1\n",
    "\n",
    "\n"
   ]
  },
  {
   "cell_type": "code",
   "execution_count": 45,
   "metadata": {},
   "outputs": [],
   "source": [
    "#test.iloc[25, 'ageRange']"
   ]
  },
  {
   "cell_type": "code",
   "execution_count": 46,
   "metadata": {},
   "outputs": [
    {
     "name": "stdout",
     "output_type": "stream",
     "text": [
      "<class 'pandas.core.frame.DataFrame'>\n",
      "RangeIndex: 418 entries, 0 to 417\n",
      "Data columns (total 13 columns):\n",
      " #   Column     Non-Null Count  Dtype  \n",
      "---  ------     --------------  -----  \n",
      " 0   Age        418 non-null    float64\n",
      " 1   SibSp      418 non-null    int64  \n",
      " 2   Parch      418 non-null    int64  \n",
      " 3   Fare       417 non-null    float64\n",
      " 4   Cabin      91 non-null     object \n",
      " 5   Embarked   418 non-null    object \n",
      " 6   1          418 non-null    uint8  \n",
      " 7   2          418 non-null    uint8  \n",
      " 8   3          418 non-null    uint8  \n",
      " 9   female     418 non-null    uint8  \n",
      " 10  male       418 non-null    uint8  \n",
      " 11  FareRange  418 non-null    int64  \n",
      " 12  ageRange   418 non-null    int64  \n",
      "dtypes: float64(2), int64(4), object(2), uint8(5)\n",
      "memory usage: 28.3+ KB\n"
     ]
    }
   ],
   "source": [
    "test.info()"
   ]
  },
  {
   "cell_type": "code",
   "execution_count": 47,
   "metadata": {},
   "outputs": [
    {
     "data": {
      "text/plain": [
       "0    2\n",
       "1    3\n",
       "2    2\n",
       "3    2\n",
       "4    2\n",
       "Name: ageRange, dtype: int64"
      ]
     },
     "execution_count": 47,
     "metadata": {},
     "output_type": "execute_result"
    }
   ],
   "source": [
    "train['ageRange'].head()"
   ]
  },
  {
   "cell_type": "code",
   "execution_count": 48,
   "metadata": {},
   "outputs": [
    {
     "data": {
      "image/png": "[encoded data removed]",
      "text/plain": [
       "<Figure size 720x360 with 2 Axes>"
      ]
     },
     "metadata": {
      "needs_background": "light"
     },
     "output_type": "display_data"
    }
   ],
   "source": [
    "cat_plot(train, 'ageRange','Survived', survival_palette)"
   ]
  },
  {
   "cell_type": "code",
   "execution_count": 49,
   "metadata": {},
   "outputs": [
    {
     "name": "stdout",
     "output_type": "stream",
     "text": [
      "<class 'pandas.core.frame.DataFrame'>\n",
      "RangeIndex: 418 entries, 0 to 417\n",
      "Data columns (total 13 columns):\n",
      " #   Column     Non-Null Count  Dtype  \n",
      "---  ------     --------------  -----  \n",
      " 0   Age        418 non-null    float64\n",
      " 1   SibSp      418 non-null    int64  \n",
      " 2   Parch      418 non-null    int64  \n",
      " 3   Fare       417 non-null    float64\n",
      " 4   Cabin      91 non-null     object \n",
      " 5   Embarked   418 non-null    object \n",
      " 6   1          418 non-null    uint8  \n",
      " 7   2          418 non-null    uint8  \n",
      " 8   3          418 non-null    uint8  \n",
      " 9   female     418 non-null    uint8  \n",
      " 10  male       418 non-null    uint8  \n",
      " 11  FareRange  418 non-null    int64  \n",
      " 12  ageRange   418 non-null    int64  \n",
      "dtypes: float64(2), int64(4), object(2), uint8(5)\n",
      "memory usage: 28.3+ KB\n"
     ]
    }
   ],
   "source": [
    "#cat_plot(test, 'ageRange','Survived', survival_palette)\n",
    "test.info()"
   ]
  },
  {
   "cell_type": "code",
   "execution_count": 50,
   "metadata": {},
   "outputs": [
    {
     "data": {
      "image/png": "[encoded data removed]",
      "text/plain": [
       "<Figure size 720x360 with 2 Axes>"
      ]
     },
     "metadata": {
      "needs_background": "light"
     },
     "output_type": "display_data"
    }
   ],
   "source": [
    "age_set_nonan = train[['Age','Survived']].copy().dropna(axis=0)\n",
    "cont_plot(age_set_nonan, 'Age', 'Survived', survival_palette, [1, 0], range(0,100,10))"
   ]
  },
  {
   "cell_type": "code",
   "execution_count": 51,
   "metadata": {},
   "outputs": [
    {
     "name": "stdout",
     "output_type": "stream",
     "text": [
      "0\n"
     ]
    }
   ],
   "source": [
    "# there are 177 missing value, fill with random int\n",
    "age_mean = train['Age'].mean()\n",
    "age_std = train['Age'].std()\n",
    "filling = np.random.randint(age_mean-age_std, age_mean+age_std, size=nan_num)\n",
    "train['Age'][train['Age'].isnull()==True] = filling\n",
    "nan_num = train['Age'].isnull().sum()\n",
    "print(nan_num)"
   ]
  },
  {
   "cell_type": "code",
   "execution_count": 52,
   "metadata": {},
   "outputs": [],
   "source": [
    "# dealing the missing val in test\n",
    "nan_num = test['Age'].isnull().sum()"
   ]
  },
  {
   "cell_type": "code",
   "execution_count": 53,
   "metadata": {},
   "outputs": [
    {
     "name": "stdout",
     "output_type": "stream",
     "text": [
      "0\n"
     ]
    }
   ],
   "source": [
    "# 86 null\n",
    "age_mean = test['Age'].mean()\n",
    "age_std = test['Age'].std()\n",
    "#print(test['Age'].mean(), test['Age'].std())\n",
    "filling = np.random.randint(age_mean-age_std,age_mean+age_std,size=nan_num)\n",
    "#print(np.random.randint(age_mean-age_std,age_mean+age_std,size=nan_num))\n",
    "test['Age'][test['Age'].isnull()==True]=filling\n",
    "nan_num = test['Age'].isnull().sum()\n",
    "print(nan_num)"
   ]
  },
  {
   "cell_type": "code",
   "execution_count": 54,
   "metadata": {},
   "outputs": [
    {
     "name": "stdout",
     "output_type": "stream",
     "text": [
      "0    608\n",
      "1    209\n",
      "2     28\n",
      "4     18\n",
      "3     16\n",
      "8      7\n",
      "5      5\n",
      "Name: SibSp, dtype: int64\n",
      "0    678\n",
      "1    118\n",
      "2     80\n",
      "5      5\n",
      "3      5\n",
      "4      4\n",
      "6      1\n",
      "Name: Parch, dtype: int64\n"
     ]
    },
    {
     "data": {
      "text/plain": [
       "<seaborn.axisgrid.FacetGrid at 0x27129895f10>"
      ]
     },
     "execution_count": 54,
     "metadata": {},
     "output_type": "execute_result"
    },
    {
     "data": {
      "image/png": "[encoded data removed]",
      "text/plain": [
       "<Figure size 720x360 with 1 Axes>"
      ]
     },
     "metadata": {
      "needs_background": "light"
     },
     "output_type": "display_data"
    },
    {
     "data": {
      "image/png": "[encoded data removed]",
      "text/plain": [
       "<Figure size 540x360 with 1 Axes>"
      ]
     },
     "metadata": {
      "needs_background": "light"
     },
     "output_type": "display_data"
    }
   ],
   "source": [
    "#family\n",
    "print(train['SibSp'].value_counts(dropna=False))\n",
    "print(train['Parch'].value_counts(dropna=False))\n",
    "\n",
    "sns.factorplot('SibSp','Survived',data=train,size=5 ,aspect=2)\n",
    "sns.factorplot('Parch','Survived',data=train,size=5 ,aspect=1.5)\n"
   ]
  },
  {
   "cell_type": "code",
   "execution_count": 55,
   "metadata": {
    "colab": {
     "base_uri": "https://localhost:8080/",
     "height": 1345
    },
    "colab_type": "code",
    "executionInfo": {
     "elapsed": 1507,
     "status": "ok",
     "timestamp": 1550008245981,
     "user": {
      "displayName": "Мария Мацкевичус",
      "photoUrl": "",
      "userId": "00635400777092193911"
     },
     "user_tz": -180
    },
    "id": "f2FYX94EsHQ3",
    "outputId": "f68941f6-5a85-47e5-8147-8a4a8dd1e060"
   },
   "outputs": [
    {
     "data": {
      "image/png": "[encoded data removed]",
      "text/plain": [
       "<Figure size 360x360 with 1 Axes>"
      ]
     },
     "metadata": {
      "needs_background": "light"
     },
     "output_type": "display_data"
    }
   ],
   "source": [
    "'''through the plot, we suggest that with more family member, \n",
    "the survival rate will drop, we can create the new col\n",
    "add up the parch and sibsp to check our theory''' \n",
    "\n",
    "train['family'] = train['SibSp'] + train['Parch']\n",
    "test['family'] = test['SibSp'] + test['Parch']\n",
    "sns.factorplot('family','Survived',data=train,size=5)\n",
    "\n",
    "train.drop(['SibSp','Parch'],axis=1,inplace=True)\n",
    "test.drop(['SibSp','Parch'],axis=1,inplace=True)"
   ]
  },
  {
   "cell_type": "code",
   "execution_count": 56,
   "metadata": {},
   "outputs": [
    {
     "name": "stdout",
     "output_type": "stream",
     "text": [
      "0\n",
      "1\n"
     ]
    }
   ],
   "source": [
    "# fare\n",
    "print(train.Fare.isnull().sum())\n",
    "print(test.Fare.isnull().sum())"
   ]
  },
  {
   "cell_type": "code",
   "execution_count": 57,
   "metadata": {
    "colab": {
     "base_uri": "https://localhost:8080/",
     "height": 369
    },
    "colab_type": "code",
    "executionInfo": {
     "elapsed": 1038,
     "status": "ok",
     "timestamp": 1550008263688,
     "user": {
      "displayName": "Мария Мацкевичус",
      "photoUrl": "",
      "userId": "00635400777092193911"
     },
     "user_tz": -180
    },
    "id": "-DcDNFRCsNiT",
    "outputId": "9afede97-89eb-455f-a708-93039cc6bfb5"
   },
   "outputs": [
    {
     "data": {
      "image/png": "[encoded data removed]",
      "text/plain": [
       "<Figure size 360x360 with 1 Axes>"
      ]
     },
     "metadata": {
      "needs_background": "light"
     },
     "output_type": "display_data"
    }
   ],
   "source": [
    "sns.factorplot('Survived','Fare',data=train,size=5)\n",
    "test['Fare'].fillna(test['Fare'].median(),inplace=True)"
   ]
  },
  {
   "cell_type": "code",
   "execution_count": 58,
   "metadata": {},
   "outputs": [
    {
     "data": {
      "text/plain": [
       "687"
      ]
     },
     "execution_count": 58,
     "metadata": {},
     "output_type": "execute_result"
    }
   ],
   "source": [
    "#Cabin\n",
    "# checking missing val\n",
    "# 687 out of 891 are missing, drop this col\n",
    "train.Cabin.isnull().sum()"
   ]
  },
  {
   "cell_type": "code",
   "execution_count": 59,
   "metadata": {
    "colab": {},
    "colab_type": "code",
    "id": "_nraF5tLsR-W"
   },
   "outputs": [],
   "source": [
    "train.drop('Cabin',axis=1,inplace=True)\n",
    "test.drop('Cabin',axis=1,inplace=True)"
   ]
  },
  {
   "cell_type": "code",
   "execution_count": 60,
   "metadata": {},
   "outputs": [
    {
     "name": "stdout",
     "output_type": "stream",
     "text": [
      "2\n"
     ]
    },
    {
     "data": {
      "text/plain": [
       "S    644\n",
       "C    168\n",
       "Q     77\n",
       "Name: Embarked, dtype: int64"
      ]
     },
     "execution_count": 60,
     "metadata": {},
     "output_type": "execute_result"
    }
   ],
   "source": [
    "#Embark\n",
    "print(train.Embarked.isnull().sum())\n",
    "# 2 missing value\n",
    "train.Embarked.value_counts()"
   ]
  },
  {
   "cell_type": "code",
   "execution_count": 61,
   "metadata": {
    "colab": {
     "base_uri": "https://localhost:8080/",
     "height": 441
    },
    "colab_type": "code",
    "executionInfo": {
     "elapsed": 886,
     "status": "ok",
     "timestamp": 1550008283764,
     "user": {
      "displayName": "Мария Мацкевичус",
      "photoUrl": "",
      "userId": "00635400777092193911"
     },
     "user_tz": -180
    },
    "id": "nOPQqoqCsUzc",
    "outputId": "9c8cf89b-5560-4991-c036-96e2ca6ad394"
   },
   "outputs": [
    {
     "data": {
      "image/png": "[encoded data removed]",
      "text/plain": [
       "<Figure size 432x432 with 1 Axes>"
      ]
     },
     "metadata": {
      "needs_background": "light"
     },
     "output_type": "display_data"
    }
   ],
   "source": [
    "# fill the majority val,'s', into missing val col\n",
    "train['Embarked'].fillna('S',inplace=True)\n",
    "\n",
    "sns.factorplot('Embarked','Survived',data=train,size=6)\n",
    "train,test = dummies('Embarked',train,test)\n"
   ]
  },
  {
   "cell_type": "code",
   "execution_count": 62,
   "metadata": {},
   "outputs": [
    {
     "data": {
      "text/html": [
       "<div>\n",
       "<style scoped>\n",
       "    .dataframe tbody tr th:only-of-type {\n",
       "        vertical-align: middle;\n",
       "    }\n",
       "\n",
       "    .dataframe tbody tr th {\n",
       "        vertical-align: top;\n",
       "    }\n",
       "\n",
       "    .dataframe thead th {\n",
       "        text-align: right;\n",
       "    }\n",
       "</style>\n",
       "<table border=\"1\" class=\"dataframe\">\n",
       "  <thead>\n",
       "    <tr style=\"text-align: right;\">\n",
       "      <th></th>\n",
       "      <th>Survived</th>\n",
       "      <th>Age</th>\n",
       "      <th>Fare</th>\n",
       "      <th>1</th>\n",
       "      <th>2</th>\n",
       "      <th>3</th>\n",
       "      <th>female</th>\n",
       "      <th>male</th>\n",
       "      <th>FareRange</th>\n",
       "      <th>ageRange</th>\n",
       "      <th>family</th>\n",
       "      <th>C</th>\n",
       "      <th>Q</th>\n",
       "      <th>S</th>\n",
       "    </tr>\n",
       "  </thead>\n",
       "  <tbody>\n",
       "    <tr>\n",
       "      <th>0</th>\n",
       "      <td>0</td>\n",
       "      <td>22.0</td>\n",
       "      <td>7.2500</td>\n",
       "      <td>0</td>\n",
       "      <td>0</td>\n",
       "      <td>1</td>\n",
       "      <td>0</td>\n",
       "      <td>1</td>\n",
       "      <td>1</td>\n",
       "      <td>2</td>\n",
       "      <td>1</td>\n",
       "      <td>0</td>\n",
       "      <td>0</td>\n",
       "      <td>1</td>\n",
       "    </tr>\n",
       "    <tr>\n",
       "      <th>1</th>\n",
       "      <td>1</td>\n",
       "      <td>38.0</td>\n",
       "      <td>71.2833</td>\n",
       "      <td>1</td>\n",
       "      <td>0</td>\n",
       "      <td>0</td>\n",
       "      <td>1</td>\n",
       "      <td>0</td>\n",
       "      <td>4</td>\n",
       "      <td>3</td>\n",
       "      <td>1</td>\n",
       "      <td>1</td>\n",
       "      <td>0</td>\n",
       "      <td>0</td>\n",
       "    </tr>\n",
       "    <tr>\n",
       "      <th>2</th>\n",
       "      <td>1</td>\n",
       "      <td>26.0</td>\n",
       "      <td>7.9250</td>\n",
       "      <td>0</td>\n",
       "      <td>0</td>\n",
       "      <td>1</td>\n",
       "      <td>1</td>\n",
       "      <td>0</td>\n",
       "      <td>1</td>\n",
       "      <td>2</td>\n",
       "      <td>0</td>\n",
       "      <td>0</td>\n",
       "      <td>0</td>\n",
       "      <td>1</td>\n",
       "    </tr>\n",
       "    <tr>\n",
       "      <th>3</th>\n",
       "      <td>1</td>\n",
       "      <td>35.0</td>\n",
       "      <td>53.1000</td>\n",
       "      <td>1</td>\n",
       "      <td>0</td>\n",
       "      <td>0</td>\n",
       "      <td>1</td>\n",
       "      <td>0</td>\n",
       "      <td>3</td>\n",
       "      <td>2</td>\n",
       "      <td>1</td>\n",
       "      <td>0</td>\n",
       "      <td>0</td>\n",
       "      <td>1</td>\n",
       "    </tr>\n",
       "    <tr>\n",
       "      <th>4</th>\n",
       "      <td>0</td>\n",
       "      <td>35.0</td>\n",
       "      <td>8.0500</td>\n",
       "      <td>0</td>\n",
       "      <td>0</td>\n",
       "      <td>1</td>\n",
       "      <td>0</td>\n",
       "      <td>1</td>\n",
       "      <td>1</td>\n",
       "      <td>2</td>\n",
       "      <td>0</td>\n",
       "      <td>0</td>\n",
       "      <td>0</td>\n",
       "      <td>1</td>\n",
       "    </tr>\n",
       "  </tbody>\n",
       "</table>\n",
       "</div>"
      ],
      "text/plain": [
       "   Survived   Age     Fare  1  2  3  female  male  FareRange  ageRange  \\\n",
       "0         0  22.0   7.2500  0  0  1       0     1          1         2   \n",
       "1         1  38.0  71.2833  1  0  0       1     0          4         3   \n",
       "2         1  26.0   7.9250  0  0  1       1     0          1         2   \n",
       "3         1  35.0  53.1000  1  0  0       1     0          3         2   \n",
       "4         0  35.0   8.0500  0  0  1       0     1          1         2   \n",
       "\n",
       "   family  C  Q  S  \n",
       "0       1  0  0  1  \n",
       "1       1  1  0  0  \n",
       "2       0  0  0  1  \n",
       "3       1  0  0  1  \n",
       "4       0  0  0  1  "
      ]
     },
     "execution_count": 62,
     "metadata": {},
     "output_type": "execute_result"
    }
   ],
   "source": [
    "train.head()"
   ]
  },
  {
   "cell_type": "code",
   "execution_count": 63,
   "metadata": {},
   "outputs": [
    {
     "data": {
      "text/html": [
       "<div>\n",
       "<style scoped>\n",
       "    .dataframe tbody tr th:only-of-type {\n",
       "        vertical-align: middle;\n",
       "    }\n",
       "\n",
       "    .dataframe tbody tr th {\n",
       "        vertical-align: top;\n",
       "    }\n",
       "\n",
       "    .dataframe thead th {\n",
       "        text-align: right;\n",
       "    }\n",
       "</style>\n",
       "<table border=\"1\" class=\"dataframe\">\n",
       "  <thead>\n",
       "    <tr style=\"text-align: right;\">\n",
       "      <th></th>\n",
       "      <th>Survived</th>\n",
       "      <th>1</th>\n",
       "      <th>2</th>\n",
       "      <th>3</th>\n",
       "      <th>female</th>\n",
       "      <th>male</th>\n",
       "      <th>FareRange</th>\n",
       "      <th>ageRange</th>\n",
       "      <th>family</th>\n",
       "      <th>C</th>\n",
       "      <th>Q</th>\n",
       "      <th>S</th>\n",
       "    </tr>\n",
       "  </thead>\n",
       "  <tbody>\n",
       "    <tr>\n",
       "      <th>0</th>\n",
       "      <td>0</td>\n",
       "      <td>0</td>\n",
       "      <td>0</td>\n",
       "      <td>1</td>\n",
       "      <td>0</td>\n",
       "      <td>1</td>\n",
       "      <td>1</td>\n",
       "      <td>2</td>\n",
       "      <td>1</td>\n",
       "      <td>0</td>\n",
       "      <td>0</td>\n",
       "      <td>1</td>\n",
       "    </tr>\n",
       "    <tr>\n",
       "      <th>1</th>\n",
       "      <td>1</td>\n",
       "      <td>1</td>\n",
       "      <td>0</td>\n",
       "      <td>0</td>\n",
       "      <td>1</td>\n",
       "      <td>0</td>\n",
       "      <td>4</td>\n",
       "      <td>3</td>\n",
       "      <td>1</td>\n",
       "      <td>1</td>\n",
       "      <td>0</td>\n",
       "      <td>0</td>\n",
       "    </tr>\n",
       "    <tr>\n",
       "      <th>2</th>\n",
       "      <td>1</td>\n",
       "      <td>0</td>\n",
       "      <td>0</td>\n",
       "      <td>1</td>\n",
       "      <td>1</td>\n",
       "      <td>0</td>\n",
       "      <td>1</td>\n",
       "      <td>2</td>\n",
       "      <td>0</td>\n",
       "      <td>0</td>\n",
       "      <td>0</td>\n",
       "      <td>1</td>\n",
       "    </tr>\n",
       "    <tr>\n",
       "      <th>3</th>\n",
       "      <td>1</td>\n",
       "      <td>1</td>\n",
       "      <td>0</td>\n",
       "      <td>0</td>\n",
       "      <td>1</td>\n",
       "      <td>0</td>\n",
       "      <td>3</td>\n",
       "      <td>2</td>\n",
       "      <td>1</td>\n",
       "      <td>0</td>\n",
       "      <td>0</td>\n",
       "      <td>1</td>\n",
       "    </tr>\n",
       "    <tr>\n",
       "      <th>4</th>\n",
       "      <td>0</td>\n",
       "      <td>0</td>\n",
       "      <td>0</td>\n",
       "      <td>1</td>\n",
       "      <td>0</td>\n",
       "      <td>1</td>\n",
       "      <td>1</td>\n",
       "      <td>2</td>\n",
       "      <td>0</td>\n",
       "      <td>0</td>\n",
       "      <td>0</td>\n",
       "      <td>1</td>\n",
       "    </tr>\n",
       "  </tbody>\n",
       "</table>\n",
       "</div>"
      ],
      "text/plain": [
       "   Survived  1  2  3  female  male  FareRange  ageRange  family  C  Q  S\n",
       "0         0  0  0  1       0     1          1         2       1  0  0  1\n",
       "1         1  1  0  0       1     0          4         3       1  1  0  0\n",
       "2         1  0  0  1       1     0          1         2       0  0  0  1\n",
       "3         1  1  0  0       1     0          3         2       1  0  0  1\n",
       "4         0  0  0  1       0     1          1         2       0  0  0  1"
      ]
     },
     "execution_count": 63,
     "metadata": {},
     "output_type": "execute_result"
    }
   ],
   "source": [
    "train.drop('Age',axis=1, inplace=True)\n",
    "test.drop('Age',axis=1, inplace=True)\n",
    "train.drop('Fare',axis=1, inplace=True)\n",
    "test.drop('Fare',axis=1, inplace=True)\n",
    "train.head()"
   ]
  },
  {
   "cell_type": "markdown",
   "metadata": {
    "colab_type": "text",
    "id": "BHId8fXhsYv3"
   },
   "source": [
    "## Model and prediction"
   ]
  },
  {
   "cell_type": "code",
   "execution_count": 64,
   "metadata": {
    "colab": {},
    "colab_type": "code",
    "id": "HHkKg0OFsW6T"
   },
   "outputs": [],
   "source": [
    "# import machine learning libraries\n",
    "from sklearn.linear_model import LogisticRegression\n",
    "from sklearn.svm import SVC, LinearSVC\n",
    "from sklearn.ensemble import RandomForestClassifier\n",
    "from sklearn.neighbors import KNeighborsClassifier\n",
    "from sklearn.metrics import accuracy_score\n",
    "from sklearn.model_selection import cross_val_score, KFold\n",
    "\n",
    "def modeling(clf,ft,target):\n",
    "    acc = cross_val_score(clf,ft,target,cv=kf)\n",
    "    #print(acc)\n",
    "    acc_lst.append(acc.mean())\n",
    "    return \n",
    "\n",
    "accuracy = []\n",
    "def ml(ft,target,time):\n",
    "    accuracy.append(acc_lst)\n",
    "\n",
    "    #logisticregression\n",
    "    logreg = LogisticRegression()\n",
    "    modeling(logreg,ft,target)\n",
    "    #RandomForest\n",
    "    rf = RandomForestClassifier(n_estimators=50, min_samples_split=4, min_samples_leaf=2)\n",
    "    modeling(rf,ft,target)\n",
    "    #svc\n",
    "    svc = SVC()\n",
    "    modeling(svc,ft,target)\n",
    "    #knn\n",
    "    knn = KNeighborsClassifier(n_neighbors = 3)\n",
    "    modeling(knn,ft,target)\n",
    "    \n",
    "    \n",
    "    print(acc_lst)\n",
    "    \n",
    "    # see the coefficient\n",
    "    logreg.fit(ft,target)\n",
    "    feature = pd.DataFrame(ft.columns)\n",
    "    feature.columns = ['Features']\n",
    "    feature[\"Coefficient Estimate\"] = pd.Series(logreg.coef_[0])\n",
    "    print(feature)\n",
    "    return "
   ]
  },
  {
   "cell_type": "code",
   "execution_count": 65,
   "metadata": {
    "colab": {
     "base_uri": "https://localhost:8080/",
     "height": 187
    },
    "colab_type": "code",
    "executionInfo": {
     "elapsed": 775,
     "status": "ok",
     "timestamp": 1550008341571,
     "user": {
      "displayName": "Мария Мацкевичус",
      "photoUrl": "",
      "userId": "00635400777092193911"
     },
     "user_tz": -180
    },
    "id": "obgkm-M_sf8n",
    "outputId": "26bf63db-0d7a-453d-8dd2-5f987cb1082a"
   },
   "outputs": [
    {
     "ename": "ValueError",
     "evalue": "Setting a random_state has no effect since shuffle is False. You should leave random_state to its default (None), or set shuffle=True.",
     "output_type": "error",
     "traceback": [
      "\u001b[1;31m---------------------------------------------------------------------------\u001b[0m",
      "\u001b[1;31mValueError\u001b[0m                                Traceback (most recent call last)",
      "Input \u001b[1;32mIn [65]\u001b[0m, in \u001b[0;36m<cell line: 9>\u001b[1;34m()\u001b[0m\n\u001b[0;32m      7\u001b[0m train_y\u001b[38;5;241m=\u001b[39mtrain[\u001b[38;5;124m'\u001b[39m\u001b[38;5;124mSurvived\u001b[39m\u001b[38;5;124m'\u001b[39m]\n\u001b[0;32m      8\u001b[0m \u001b[38;5;66;03m#set kfkf = KFold(n_splits=,random_state=1)\u001b[39;00m\n\u001b[1;32m----> 9\u001b[0m kf \u001b[38;5;241m=\u001b[39m \u001b[43mKFold\u001b[49m\u001b[43m(\u001b[49m\u001b[43mn_splits\u001b[49m\u001b[38;5;241;43m=\u001b[39;49m\u001b[38;5;241;43m3\u001b[39;49m\u001b[43m,\u001b[49m\u001b[43mrandom_state\u001b[49m\u001b[38;5;241;43m=\u001b[39;49m\u001b[38;5;241;43m1\u001b[39;49m\u001b[43m)\u001b[49m\n\u001b[0;32m     10\u001b[0m acc_lst \u001b[38;5;241m=\u001b[39m []\n\u001b[0;32m     11\u001b[0m ml(train_ft,train_y,\u001b[38;5;124m'\u001b[39m\u001b[38;5;124mtest_1\u001b[39m\u001b[38;5;124m'\u001b[39m)\n",
      "File \u001b[1;32m~\\anaconda3\\lib\\site-packages\\sklearn\\model_selection\\_split.py:435\u001b[0m, in \u001b[0;36mKFold.__init__\u001b[1;34m(self, n_splits, shuffle, random_state)\u001b[0m\n\u001b[0;32m    434\u001b[0m \u001b[38;5;28;01mdef\u001b[39;00m \u001b[38;5;21m__init__\u001b[39m(\u001b[38;5;28mself\u001b[39m, n_splits\u001b[38;5;241m=\u001b[39m\u001b[38;5;241m5\u001b[39m, \u001b[38;5;241m*\u001b[39m, shuffle\u001b[38;5;241m=\u001b[39m\u001b[38;5;28;01mFalse\u001b[39;00m, random_state\u001b[38;5;241m=\u001b[39m\u001b[38;5;28;01mNone\u001b[39;00m):\n\u001b[1;32m--> 435\u001b[0m     \u001b[38;5;28;43msuper\u001b[39;49m\u001b[43m(\u001b[49m\u001b[43m)\u001b[49m\u001b[38;5;241;43m.\u001b[39;49m\u001b[38;5;21;43m__init__\u001b[39;49m\u001b[43m(\u001b[49m\u001b[43mn_splits\u001b[49m\u001b[38;5;241;43m=\u001b[39;49m\u001b[43mn_splits\u001b[49m\u001b[43m,\u001b[49m\u001b[43m \u001b[49m\u001b[43mshuffle\u001b[49m\u001b[38;5;241;43m=\u001b[39;49m\u001b[43mshuffle\u001b[49m\u001b[43m,\u001b[49m\u001b[43m \u001b[49m\u001b[43mrandom_state\u001b[49m\u001b[38;5;241;43m=\u001b[39;49m\u001b[43mrandom_state\u001b[49m\u001b[43m)\u001b[49m\n",
      "File \u001b[1;32m~\\anaconda3\\lib\\site-packages\\sklearn\\model_selection\\_split.py:296\u001b[0m, in \u001b[0;36m_BaseKFold.__init__\u001b[1;34m(self, n_splits, shuffle, random_state)\u001b[0m\n\u001b[0;32m    293\u001b[0m     \u001b[38;5;28;01mraise\u001b[39;00m \u001b[38;5;167;01mTypeError\u001b[39;00m(\u001b[38;5;124m\"\u001b[39m\u001b[38;5;124mshuffle must be True or False; got \u001b[39m\u001b[38;5;132;01m{0}\u001b[39;00m\u001b[38;5;124m\"\u001b[39m\u001b[38;5;241m.\u001b[39mformat(shuffle))\n\u001b[0;32m    295\u001b[0m \u001b[38;5;28;01mif\u001b[39;00m \u001b[38;5;129;01mnot\u001b[39;00m shuffle \u001b[38;5;129;01mand\u001b[39;00m random_state \u001b[38;5;129;01mis\u001b[39;00m \u001b[38;5;129;01mnot\u001b[39;00m \u001b[38;5;28;01mNone\u001b[39;00m:  \u001b[38;5;66;03m# None is the default\u001b[39;00m\n\u001b[1;32m--> 296\u001b[0m     \u001b[38;5;28;01mraise\u001b[39;00m \u001b[38;5;167;01mValueError\u001b[39;00m(\n\u001b[0;32m    297\u001b[0m         \u001b[38;5;124m\"\u001b[39m\u001b[38;5;124mSetting a random_state has no effect since shuffle is \u001b[39m\u001b[38;5;124m\"\u001b[39m\n\u001b[0;32m    298\u001b[0m         \u001b[38;5;124m\"\u001b[39m\u001b[38;5;124mFalse. You should leave \u001b[39m\u001b[38;5;124m\"\u001b[39m\n\u001b[0;32m    299\u001b[0m         \u001b[38;5;124m\"\u001b[39m\u001b[38;5;124mrandom_state to its default (None), or set shuffle=True.\u001b[39m\u001b[38;5;124m\"\u001b[39m,\n\u001b[0;32m    300\u001b[0m     )\n\u001b[0;32m    302\u001b[0m \u001b[38;5;28mself\u001b[39m\u001b[38;5;241m.\u001b[39mn_splits \u001b[38;5;241m=\u001b[39m n_splits\n\u001b[0;32m    303\u001b[0m \u001b[38;5;28mself\u001b[39m\u001b[38;5;241m.\u001b[39mshuffle \u001b[38;5;241m=\u001b[39m shuffle\n",
      "\u001b[1;31mValueError\u001b[0m: Setting a random_state has no effect since shuffle is False. You should leave random_state to its default (None), or set shuffle=True."
     ]
    }
   ],
   "source": [
    "# testing no.1, using all the feature\n",
    "#[0.7890011223344556, 0.8136924803591471, 0.6823793490460157, 0.6745230078563411]\n",
    "#[0.7923681257014591, 0.8226711560044894, 0.7699214365881032, 0.7542087542087542] with out age\n",
    "#[0.7934904601571269, 0.8181818181818182, 0.8226711560044894, 0.7912457912457912] age and fare\n",
    "#[0.7934904601571269, 0.8069584736251403, 0.8226711560044894, 0.7912457912457912]\n",
    "train_ft=train.drop('Survived',axis=1)\n",
    "train_y=train['Survived']\n",
    "#set kfkf = KFold(n_splits=,random_state=1)\n",
    "kf = KFold(n_splits=3,random_state=1)\n",
    "acc_lst = []\n",
    "ml(train_ft,train_y,'test_1')"
   ]
  },
  {
   "cell_type": "code",
   "execution_count": 67,
   "metadata": {},
   "outputs": [
    {
     "name": "stdout",
     "output_type": "stream",
     "text": [
      "[0.7912457912457912, 0.7901234567901234, 0.809203142536476, 0.7856341189674524]\n",
      "    Features  Coefficient Estimate\n",
      "0          1              0.588472\n",
      "1          2              0.150139\n",
      "2          3             -0.738519\n",
      "3     female              1.331199\n",
      "4       male             -1.331107\n",
      "5  FareRange              0.256434\n",
      "6     family             -0.204931\n",
      "7          C              0.213974\n",
      "8          Q              0.054564\n",
      "9          S             -0.268446\n"
     ]
    },
    {
     "data": {
      "text/html": [
       "<div>\n",
       "<style scoped>\n",
       "    .dataframe tbody tr th:only-of-type {\n",
       "        vertical-align: middle;\n",
       "    }\n",
       "\n",
       "    .dataframe tbody tr th {\n",
       "        vertical-align: top;\n",
       "    }\n",
       "\n",
       "    .dataframe thead th {\n",
       "        text-align: right;\n",
       "    }\n",
       "</style>\n",
       "<table border=\"1\" class=\"dataframe\">\n",
       "  <thead>\n",
       "    <tr style=\"text-align: right;\">\n",
       "      <th></th>\n",
       "      <th>1</th>\n",
       "      <th>2</th>\n",
       "      <th>3</th>\n",
       "      <th>female</th>\n",
       "      <th>male</th>\n",
       "      <th>FareRange</th>\n",
       "      <th>family</th>\n",
       "      <th>C</th>\n",
       "      <th>Q</th>\n",
       "      <th>S</th>\n",
       "    </tr>\n",
       "  </thead>\n",
       "  <tbody>\n",
       "    <tr>\n",
       "      <th>0</th>\n",
       "      <td>0</td>\n",
       "      <td>0</td>\n",
       "      <td>1</td>\n",
       "      <td>0</td>\n",
       "      <td>1</td>\n",
       "      <td>1</td>\n",
       "      <td>1</td>\n",
       "      <td>0</td>\n",
       "      <td>0</td>\n",
       "      <td>1</td>\n",
       "    </tr>\n",
       "    <tr>\n",
       "      <th>1</th>\n",
       "      <td>1</td>\n",
       "      <td>0</td>\n",
       "      <td>0</td>\n",
       "      <td>1</td>\n",
       "      <td>0</td>\n",
       "      <td>4</td>\n",
       "      <td>1</td>\n",
       "      <td>1</td>\n",
       "      <td>0</td>\n",
       "      <td>0</td>\n",
       "    </tr>\n",
       "    <tr>\n",
       "      <th>2</th>\n",
       "      <td>0</td>\n",
       "      <td>0</td>\n",
       "      <td>1</td>\n",
       "      <td>1</td>\n",
       "      <td>0</td>\n",
       "      <td>1</td>\n",
       "      <td>0</td>\n",
       "      <td>0</td>\n",
       "      <td>0</td>\n",
       "      <td>1</td>\n",
       "    </tr>\n",
       "    <tr>\n",
       "      <th>3</th>\n",
       "      <td>1</td>\n",
       "      <td>0</td>\n",
       "      <td>0</td>\n",
       "      <td>1</td>\n",
       "      <td>0</td>\n",
       "      <td>3</td>\n",
       "      <td>1</td>\n",
       "      <td>0</td>\n",
       "      <td>0</td>\n",
       "      <td>1</td>\n",
       "    </tr>\n",
       "    <tr>\n",
       "      <th>4</th>\n",
       "      <td>0</td>\n",
       "      <td>0</td>\n",
       "      <td>1</td>\n",
       "      <td>0</td>\n",
       "      <td>1</td>\n",
       "      <td>1</td>\n",
       "      <td>0</td>\n",
       "      <td>0</td>\n",
       "      <td>0</td>\n",
       "      <td>1</td>\n",
       "    </tr>\n",
       "  </tbody>\n",
       "</table>\n",
       "</div>"
      ],
      "text/plain": [
       "   1  2  3  female  male  FareRange  family  C  Q  S\n",
       "0  0  0  1       0     1          1       1  0  0  1\n",
       "1  1  0  0       1     0          4       1  1  0  0\n",
       "2  0  0  1       1     0          1       0  0  0  1\n",
       "3  1  0  0       1     0          3       1  0  0  1\n",
       "4  0  0  1       0     1          1       0  0  0  1"
      ]
     },
     "execution_count": 67,
     "metadata": {},
     "output_type": "execute_result"
    }
   ],
   "source": [
    "# testing no.2 no Age\n",
    "train_ft=train.drop(['Survived','ageRange'],axis=1)\n",
    "train_y=train['Survived']\n",
    "#set kfkf = KFold(n_splits=3,random_state=1)\n",
    "#kf = KFold(n_splits=3,random_state=1)\n",
    "kf = KFold(n_splits=3)\n",
    "acc_lst = []\n",
    "ml(train_ft,train_y,'test_2')\n",
    "train_ft.head()"
   ]
  },
  {
   "cell_type": "code",
   "execution_count": 69,
   "metadata": {
    "colab": {
     "base_uri": "https://localhost:8080/",
     "height": 170
    },
    "colab_type": "code",
    "executionInfo": {
     "elapsed": 794,
     "status": "ok",
     "timestamp": 1550008406603,
     "user": {
      "displayName": "Мария Мацкевичус",
      "photoUrl": "",
      "userId": "00635400777092193911"
     },
     "user_tz": -180
    },
    "id": "c_7Yr-Yhsugt",
    "outputId": "4f543920-d025-4dae-ff7d-6f4ade987bb0"
   },
   "outputs": [
    {
     "name": "stdout",
     "output_type": "stream",
     "text": [
      "[0.8013468013468014, 0.7946127946127945, 0.8294051627384961, 0.7687991021324354]\n",
      "   Features  Coefficient Estimate\n",
      "0         1              1.065218\n",
      "1         2              0.064369\n",
      "2         3             -1.129546\n",
      "3    female              1.332978\n",
      "4      male             -1.332938\n",
      "5  ageRange             -0.539791\n",
      "6    family             -0.179063\n",
      "7         C              0.198600\n",
      "8         Q              0.094104\n",
      "9         S             -0.292663\n"
     ]
    }
   ],
   "source": [
    "# test3, no FARE\n",
    "train_ft_3=train.drop(['Survived','FareRange'],axis=1)\n",
    "test_3 = test.drop(['FareRange'],axis=1)\n",
    "train_ft.head()\n",
    "# ml\n",
    "#kf = KFold(n_splits=3,random_state=1)\n",
    "kf = KFold(n_splits=3)\n",
    "acc_lst = []\n",
    "ml(train_ft_3,train_y,'test_3')"
   ]
  },
  {
   "cell_type": "code",
   "execution_count": 71,
   "metadata": {
    "colab": {
     "base_uri": "https://localhost:8080/",
     "height": 170
    },
    "colab_type": "code",
    "executionInfo": {
     "elapsed": 803,
     "status": "ok",
     "timestamp": 1550008417253,
     "user": {
      "displayName": "Мария Мацкевичус",
      "photoUrl": "",
      "userId": "00635400777092193911"
     },
     "user_tz": -180
    },
    "id": "Mjdr1wpKs069",
    "outputId": "bbb65bbb-8ef7-4cd2-c6b2-23d2a5c9ea8f"
   },
   "outputs": [
    {
     "name": "stdout",
     "output_type": "stream",
     "text": [
      "[0.7923681257014591, 0.8069584736251403, 0.8226711560044894, 0.7991021324354657]\n",
      "    Features  Coefficient Estimate\n",
      "0          1              0.839107\n",
      "1          2              0.072334\n",
      "2          3             -0.911062\n",
      "3     female              1.323825\n",
      "4       male             -1.323446\n",
      "5  FareRange              0.272648\n",
      "6   ageRange             -0.545395\n",
      "7     family             -0.258363\n",
      "8          C              0.399243\n",
      "9          Q              0.372261\n"
     ]
    }
   ],
   "source": [
    "# test4, get rid of S \n",
    "train_ft_4=train.drop(['Survived','S'],axis=1)\n",
    "test_4 = test.drop('S',axis=1)\n",
    "\n",
    "# ml\n",
    "#kf = KFold(n_splits=3,random_state=1)\n",
    "kf = KFold(n_splits=3)\n",
    "acc_lst = []\n",
    "ml(train_ft_4,train_y,'test_4')"
   ]
  },
  {
   "cell_type": "code",
   "execution_count": 73,
   "metadata": {
    "colab": {
     "base_uri": "https://localhost:8080/",
     "height": 153
    },
    "colab_type": "code",
    "executionInfo": {
     "elapsed": 563,
     "status": "ok",
     "timestamp": 1550008424365,
     "user": {
      "displayName": "Мария Мацкевичус",
      "photoUrl": "",
      "userId": "00635400777092193911"
     },
     "user_tz": -180
    },
    "id": "k_VmyfNNs3hU",
    "outputId": "3419754e-e16d-41f5-d0f4-2ab7f09bcd7a"
   },
   "outputs": [
    {
     "name": "stdout",
     "output_type": "stream",
     "text": [
      "[0.7901234567901234, 0.7912457912457912, 0.809203142536476, 0.7474747474747475]\n",
      "  Features  Coefficient Estimate\n",
      "0        1              0.806908\n",
      "1        2              0.137599\n",
      "2        3             -0.944485\n",
      "3   female              1.341528\n",
      "4     male             -1.341507\n",
      "5   family             -0.132068\n",
      "6        C              0.264453\n",
      "7        Q              0.025012\n",
      "8        S             -0.289444\n"
     ]
    }
   ],
   "source": [
    "# test5, lose Fare and Age\n",
    "train_ft_5=train.drop(['Survived','FareRange','ageRange'],axis=1)\n",
    "test_5 = test.drop(['FareRange'],axis=1)\n",
    "train_ft.head()\n",
    "# ml\n",
    "#kf = KFold(n_splits=3,random_state=1)\n",
    "kf = KFold(n_splits=3)\n",
    "acc_lst = []\n",
    "ml(train_ft_5,train_y,'test_5')"
   ]
  },
  {
   "cell_type": "code",
   "execution_count": 75,
   "metadata": {
    "colab": {
     "base_uri": "https://localhost:8080/",
     "height": 235
    },
    "colab_type": "code",
    "executionInfo": {
     "elapsed": 536,
     "status": "ok",
     "timestamp": 1550008432977,
     "user": {
      "displayName": "Мария Мацкевичус",
      "photoUrl": "",
      "userId": "00635400777092193911"
     },
     "user_tz": -180
    },
    "id": "qxS28skjs5UA",
    "outputId": "7e5c70f5-31de-4160-d3d6-318c123b352f"
   },
   "outputs": [
    {
     "data": {
      "text/html": [
       "<div>\n",
       "<style scoped>\n",
       "    .dataframe tbody tr th:only-of-type {\n",
       "        vertical-align: middle;\n",
       "    }\n",
       "\n",
       "    .dataframe tbody tr th {\n",
       "        vertical-align: top;\n",
       "    }\n",
       "\n",
       "    .dataframe thead th {\n",
       "        text-align: right;\n",
       "    }\n",
       "</style>\n",
       "<table border=\"1\" class=\"dataframe\">\n",
       "  <thead>\n",
       "    <tr style=\"text-align: right;\">\n",
       "      <th></th>\n",
       "      <th>logistic</th>\n",
       "      <th>rf</th>\n",
       "      <th>svc</th>\n",
       "      <th>knn</th>\n",
       "    </tr>\n",
       "  </thead>\n",
       "  <tbody>\n",
       "    <tr>\n",
       "      <th>test1</th>\n",
       "      <td>0.791246</td>\n",
       "      <td>0.790123</td>\n",
       "      <td>0.809203</td>\n",
       "      <td>0.785634</td>\n",
       "    </tr>\n",
       "    <tr>\n",
       "      <th>test2</th>\n",
       "      <td>0.801347</td>\n",
       "      <td>0.794613</td>\n",
       "      <td>0.829405</td>\n",
       "      <td>0.768799</td>\n",
       "    </tr>\n",
       "    <tr>\n",
       "      <th>test3</th>\n",
       "      <td>0.792368</td>\n",
       "      <td>0.806958</td>\n",
       "      <td>0.822671</td>\n",
       "      <td>0.799102</td>\n",
       "    </tr>\n",
       "    <tr>\n",
       "      <th>test4</th>\n",
       "      <td>0.790123</td>\n",
       "      <td>0.791246</td>\n",
       "      <td>0.809203</td>\n",
       "      <td>0.747475</td>\n",
       "    </tr>\n",
       "  </tbody>\n",
       "</table>\n",
       "</div>"
      ],
      "text/plain": [
       "       logistic        rf       svc       knn\n",
       "test1  0.791246  0.790123  0.809203  0.785634\n",
       "test2  0.801347  0.794613  0.829405  0.768799\n",
       "test3  0.792368  0.806958  0.822671  0.799102\n",
       "test4  0.790123  0.791246  0.809203  0.747475"
      ]
     },
     "execution_count": 75,
     "metadata": {},
     "output_type": "execute_result"
    }
   ],
   "source": [
    "accuracy_df=pd.DataFrame(data=accuracy,\n",
    "                         index=['test1','test2','test3','test4'],\n",
    "                         columns=['logistic','rf','svc','knn'])\n",
    "accuracy_df"
   ]
  }
 ],
 "metadata": {
  "colab": {
   "name": "ML pipeline.ipynb",
   "provenance": [],
   "version": "0.3.2"
  },
  "kernelspec": {
   "display_name": "Python 3 (ipykernel)",
   "language": "python",
   "name": "python3"
  },
  "language_info": {
   "codemirror_mode": {
    "name": "ipython",
    "version": 3
   },
   "file_extension": ".py",
   "mimetype": "text/x-python",
   "name": "python",
   "nbconvert_exporter": "python",
   "pygments_lexer": "ipython3",
   "version": "3.9.12"
  }
 },
 "nbformat": 4,
 "nbformat_minor": 2
}
