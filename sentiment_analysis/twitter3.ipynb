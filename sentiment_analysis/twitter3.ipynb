{
 "cells": [
  {
   "cell_type": "code",
   "execution_count": 1,
   "metadata": {},
   "outputs": [],
   "source": [
    "from sklearn.feature_extraction.text import CountVectorizer\n",
    "from sklearn.naive_bayes import BernoulliNB\n",
    "from sklearn.metrics import confusion_matrix\n",
    "\n",
    "import numpy as np\n",
    "import itertools\n",
    "import matplotlib.pyplot as plt\n",
    "import pandas as pd"
   ]
  },
  {
   "cell_type": "code",
   "execution_count": 2,
   "metadata": {},
   "outputs": [],
   "source": [
    "df=pd.read_csv(\"clean_twitter3.csv\")"
   ]
  },
  {
   "cell_type": "code",
   "execution_count": 3,
   "metadata": {},
   "outputs": [
    {
     "data": {
      "text/html": [
       "<div>\n",
       "<style scoped>\n",
       "    .dataframe tbody tr th:only-of-type {\n",
       "        vertical-align: middle;\n",
       "    }\n",
       "\n",
       "    .dataframe tbody tr th {\n",
       "        vertical-align: top;\n",
       "    }\n",
       "\n",
       "    .dataframe thead th {\n",
       "        text-align: right;\n",
       "    }\n",
       "</style>\n",
       "<table border=\"1\" class=\"dataframe\">\n",
       "  <thead>\n",
       "    <tr style=\"text-align: right;\">\n",
       "      <th></th>\n",
       "      <th>Unnamed: 0</th>\n",
       "      <th>text</th>\n",
       "      <th>target</th>\n",
       "    </tr>\n",
       "  </thead>\n",
       "  <tbody>\n",
       "    <tr>\n",
       "      <th>0</th>\n",
       "      <td>0</td>\n",
       "      <td>can t believe i have to wait another months fo...</td>\n",
       "      <td>0</td>\n",
       "    </tr>\n",
       "    <tr>\n",
       "      <th>1</th>\n",
       "      <td>1</td>\n",
       "      <td>when did i felt so lonely</td>\n",
       "      <td>0</td>\n",
       "    </tr>\n",
       "    <tr>\n",
       "      <th>2</th>\n",
       "      <td>2</td>\n",
       "      <td>ugh a huge headache coughing constantly legs f...</td>\n",
       "      <td>0</td>\n",
       "    </tr>\n",
       "    <tr>\n",
       "      <th>3</th>\n",
       "      <td>3</td>\n",
       "      <td>got to go clean now knowing it will be messed ...</td>\n",
       "      <td>0</td>\n",
       "    </tr>\n",
       "    <tr>\n",
       "      <th>4</th>\n",
       "      <td>4</td>\n",
       "      <td>is still hoping google take over the world alg...</td>\n",
       "      <td>0</td>\n",
       "    </tr>\n",
       "  </tbody>\n",
       "</table>\n",
       "</div>"
      ],
      "text/plain": [
       "   Unnamed: 0                                               text  target\n",
       "0           0  can t believe i have to wait another months fo...       0\n",
       "1           1                          when did i felt so lonely       0\n",
       "2           2  ugh a huge headache coughing constantly legs f...       0\n",
       "3           3  got to go clean now knowing it will be messed ...       0\n",
       "4           4  is still hoping google take over the world alg...       0"
      ]
     },
     "execution_count": 3,
     "metadata": {},
     "output_type": "execute_result"
    }
   ],
   "source": [
    "df.head()"
   ]
  },
  {
   "cell_type": "code",
   "execution_count": 4,
   "metadata": {},
   "outputs": [
    {
     "data": {
      "text/html": [
       "<div>\n",
       "<style scoped>\n",
       "    .dataframe tbody tr th:only-of-type {\n",
       "        vertical-align: middle;\n",
       "    }\n",
       "\n",
       "    .dataframe tbody tr th {\n",
       "        vertical-align: top;\n",
       "    }\n",
       "\n",
       "    .dataframe thead th {\n",
       "        text-align: right;\n",
       "    }\n",
       "</style>\n",
       "<table border=\"1\" class=\"dataframe\">\n",
       "  <thead>\n",
       "    <tr style=\"text-align: right;\">\n",
       "      <th></th>\n",
       "      <th>Unnamed: 0</th>\n",
       "      <th>text</th>\n",
       "      <th>target</th>\n",
       "    </tr>\n",
       "  </thead>\n",
       "  <tbody>\n",
       "    <tr>\n",
       "      <th>399995</th>\n",
       "      <td>399995</td>\n",
       "      <td>im doin the same so well definately gettup thi...</td>\n",
       "      <td>1</td>\n",
       "    </tr>\n",
       "    <tr>\n",
       "      <th>399996</th>\n",
       "      <td>399996</td>\n",
       "      <td>finding life s simple delights in the midst of...</td>\n",
       "      <td>1</td>\n",
       "    </tr>\n",
       "    <tr>\n",
       "      <th>399997</th>\n",
       "      <td>399997</td>\n",
       "      <td>just tell me when your on your way i ll keep c...</td>\n",
       "      <td>1</td>\n",
       "    </tr>\n",
       "    <tr>\n",
       "      <th>399998</th>\n",
       "      <td>399998</td>\n",
       "      <td>goodbye downtown</td>\n",
       "      <td>1</td>\n",
       "    </tr>\n",
       "    <tr>\n",
       "      <th>399999</th>\n",
       "      <td>399999</td>\n",
       "      <td>everyone should watch mtv hits rn its everyone...</td>\n",
       "      <td>1</td>\n",
       "    </tr>\n",
       "  </tbody>\n",
       "</table>\n",
       "</div>"
      ],
      "text/plain": [
       "        Unnamed: 0                                               text  target\n",
       "399995      399995  im doin the same so well definately gettup thi...       1\n",
       "399996      399996  finding life s simple delights in the midst of...       1\n",
       "399997      399997  just tell me when your on your way i ll keep c...       1\n",
       "399998      399998                                   goodbye downtown       1\n",
       "399999      399999  everyone should watch mtv hits rn its everyone...       1"
      ]
     },
     "execution_count": 4,
     "metadata": {},
     "output_type": "execute_result"
    }
   ],
   "source": [
    "df.tail()"
   ]
  },
  {
   "cell_type": "code",
   "execution_count": 5,
   "metadata": {},
   "outputs": [
    {
     "name": "stdout",
     "output_type": "stream",
     "text": [
      "116509\n"
     ]
    },
    {
     "data": {
      "text/plain": [
       "['i',\n",
       " 'to',\n",
       " 'the',\n",
       " 'a',\n",
       " 'my',\n",
       " 'it',\n",
       " 'and',\n",
       " 'you',\n",
       " 'is',\n",
       " 'for',\n",
       " 'in',\n",
       " 's',\n",
       " 't',\n",
       " 'of',\n",
       " 'on',\n",
       " 'that',\n",
       " 'me',\n",
       " 'so',\n",
       " 'have',\n",
       " 'm',\n",
       " 'but',\n",
       " 'just',\n",
       " 'with',\n",
       " 'at',\n",
       " 'be',\n",
       " 'not',\n",
       " 'was',\n",
       " 'can',\n",
       " 'now',\n",
       " 'up',\n",
       " 'this',\n",
       " 'good',\n",
       " 'all',\n",
       " 'day',\n",
       " 'out',\n",
       " 'get',\n",
       " 'like',\n",
       " 'no',\n",
       " 'are',\n",
       " 'go',\n",
       " 'got',\n",
       " 'today',\n",
       " 'do',\n",
       " 'going',\n",
       " 'too',\n",
       " 'love',\n",
       " 'your',\n",
       " 'we',\n",
       " 'work',\n",
       " 'lol']"
      ]
     },
     "execution_count": 5,
     "metadata": {},
     "output_type": "execute_result"
    }
   ],
   "source": [
    "import nltk\n",
    "from nltk.tokenize import word_tokenize\n",
    "reviews = df.text.str.cat(sep=' ')\n",
    "#function to split text into word\n",
    "tokens = word_tokenize(reviews)\n",
    "vocabulary = set(tokens)\n",
    "print(len(vocabulary))\n",
    "frequency_dist = nltk.FreqDist(tokens)\n",
    "sorted(frequency_dist,key=frequency_dist.__getitem__, reverse=True)[0:50]"
   ]
  },
  {
   "cell_type": "code",
   "execution_count": 6,
   "metadata": {},
   "outputs": [],
   "source": [
    "from nltk.corpus import stopwords\n",
    "stop_words = set(stopwords.words('english'))\n",
    "tokens = [w for w in tokens if not w in stop_words]"
   ]
  },
  {
   "cell_type": "code",
   "execution_count": 7,
   "metadata": {},
   "outputs": [
    {
     "data": {
      "text/plain": [
       "['believe',\n",
       " 'wait',\n",
       " 'another',\n",
       " 'months',\n",
       " 'phone',\n",
       " 'contract',\n",
       " 'end',\n",
       " 'bored',\n",
       " 'month',\n",
       " 'contract',\n",
       " 'would',\n",
       " 'run',\n",
       " 'felt',\n",
       " 'lonely',\n",
       " 'ugh',\n",
       " 'huge',\n",
       " 'headache',\n",
       " 'coughing',\n",
       " 'constantly',\n",
       " 'legs',\n",
       " 'feeling',\n",
       " 'week',\n",
       " 'feeling',\n",
       " 'like',\n",
       " 'throwing',\n",
       " 'sucks',\n",
       " 'beyond',\n",
       " 'compare',\n",
       " 'got',\n",
       " 'go',\n",
       " 'clean',\n",
       " 'knowing',\n",
       " 'messed',\n",
       " 'tomorrow',\n",
       " 'still',\n",
       " 'hoping',\n",
       " 'google',\n",
       " 'take',\n",
       " 'world',\n",
       " 'algebra',\n",
       " 'revision',\n",
       " 'new',\n",
       " 'w',\n",
       " 'core',\n",
       " 'extreme',\n",
       " 'x',\n",
       " 'sse',\n",
       " 'bit',\n",
       " 'buildchain',\n",
       " 'finally']"
      ]
     },
     "execution_count": 7,
     "metadata": {},
     "output_type": "execute_result"
    }
   ],
   "source": [
    "tokens[0:50]"
   ]
  },
  {
   "cell_type": "code",
   "execution_count": 8,
   "metadata": {},
   "outputs": [],
   "source": [
    "ddf=df.head()"
   ]
  },
  {
   "cell_type": "code",
   "execution_count": 9,
   "metadata": {},
   "outputs": [
    {
     "data": {
      "text/plain": [
       "0    0\n",
       "1    0\n",
       "2    0\n",
       "3    0\n",
       "4    0\n",
       "Name: target, dtype: int64"
      ]
     },
     "execution_count": 9,
     "metadata": {},
     "output_type": "execute_result"
    }
   ],
   "source": [
    "ddf[\"target\"]"
   ]
  },
  {
   "cell_type": "code",
   "execution_count": 10,
   "metadata": {},
   "outputs": [],
   "source": [
    "from sklearn.model_selection import train_test_split"
   ]
  },
  {
   "cell_type": "code",
   "execution_count": 11,
   "metadata": {},
   "outputs": [],
   "source": [
    "\n",
    "train_data, test_data, train_labels, test_labels = train_test_split(df[\"text\"].values.astype('U'), \n",
    "                                                                    df[\"target\"], \n",
    "                                                                    test_size = 0.2,\n",
    "                                                                    random_state = 1)"
   ]
  },
  {
   "cell_type": "code",
   "execution_count": 12,
   "metadata": {},
   "outputs": [
    {
     "data": {
      "text/plain": [
       "136326    0\n",
       "139035    0\n",
       "184089    0\n",
       "49577     0\n",
       "276353    1\n",
       "272437    1\n",
       "334999    1\n",
       "385043    1\n",
       "250122    1\n",
       "150861    0\n",
       "192076    0\n",
       "204364    1\n",
       "208796    1\n",
       "209593    1\n",
       "357866    1\n",
       "303040    1\n",
       "357800    1\n",
       "383390    1\n",
       "363457    1\n",
       "Name: target, dtype: int64"
      ]
     },
     "execution_count": 12,
     "metadata": {},
     "output_type": "execute_result"
    }
   ],
   "source": [
    "test_labels[1:20]"
   ]
  },
  {
   "cell_type": "code",
   "execution_count": 13,
   "metadata": {},
   "outputs": [],
   "source": [
    "from sklearn.feature_extraction.text import TfidfTransformer\n",
    "from sklearn.feature_extraction.text import TfidfVectorizer\n"
   ]
  },
  {
   "cell_type": "code",
   "execution_count": 14,
   "metadata": {},
   "outputs": [],
   "source": [
    "from sklearn.naive_bayes import MultinomialNB\n",
    "from  sklearn.metrics  import accuracy_score\n",
    "from sklearn.ensemble import RandomForestClassifier\n",
    "from sklearn.metrics import classification_report, confusion_matrix, accuracy_score\n",
    "from sklearn.tree import DecisionTreeClassifier\n",
    "from sklearn import svm\n",
    "from sklearn.linear_model import LogisticRegression\n",
    "from sklearn.neighbors import KNeighborsClassifier\n",
    "from sklearn.svm import SVC\n",
    "\n"
   ]
  },
  {
   "cell_type": "code",
   "execution_count": 15,
   "metadata": {},
   "outputs": [
    {
     "name": "stdout",
     "output_type": "stream",
     "text": [
      "(320000, 102091) (80000, 102091)\n"
     ]
    }
   ],
   "source": [
    "vectorizer = TfidfVectorizer()\n",
    "train_vectors = vectorizer.fit_transform(train_data)\n",
    "test_vectors = vectorizer.transform(test_data)\n",
    "print(train_vectors.shape, test_vectors.shape)"
   ]
  },
  {
   "cell_type": "code",
   "execution_count": 16,
   "metadata": {},
   "outputs": [],
   "source": [
    "def clfr(clf, train_v, train_l, test_v, test_l, name ):\n",
    "    clf.fit(train_v, train_l)\n",
    "    predicted = clf.predict(test_v)\n",
    "    print(name)\n",
    "\n",
    "    conf_mat=confusion_matrix(test_l,predicted)\n",
    "    #print(conf_mat)\n",
    "    rep=classification_report(test_l,predicted)\n",
    "    print(rep) \n",
    "    acc=accuracy_score(test_l,predicted)\n",
    "    print(\"accuracy:\",acc)\n",
    "    return acc , conf_mat, rep"
   ]
  },
  {
   "cell_type": "code",
   "execution_count": 17,
   "metadata": {},
   "outputs": [],
   "source": [
    "def heatmap(confusion_matrix_result, t, acc):\n",
    "    classes = [\"Negatives\", \"Positives\"]\n",
    "\n",
    "    plt.figure()\n",
    "    plt.imshow(confusion_matrix_result, interpolation='nearest', cmap=plt.cm.Blues)\n",
    "    plt.title(t+\" confusion matrix\")\n",
    "    plt.colorbar()\n",
    "    tick_marks = np.arange(len(classes))\n",
    "    plt.xticks(tick_marks, classes, rotation=45)\n",
    "    plt.yticks(tick_marks, classes)\n",
    "\n",
    "    text_format = 'd'\n",
    "    thresh = confusion_matrix_result.max() / 2.\n",
    "    for row, column in itertools.product(range(confusion_matrix_result.shape[0]), range(confusion_matrix_result.shape[1])):\n",
    "        plt.text(column, row, format(confusion_matrix_result[row, column], text_format),\n",
    "                 horizontalalignment=\"center\",\n",
    "                 color=\"white\" if confusion_matrix_result[row, column] > thresh else \"black\")\n",
    "\n",
    "    plt.ylabel('True label')\n",
    "    plt.xlabel('Predicted label')\n",
    "    plt.tight_layout()\n",
    "    plt.show()\n",
    "    print(t,\"accuracy:\", acc)"
   ]
  },
  {
   "cell_type": "code",
   "execution_count": 18,
   "metadata": {},
   "outputs": [],
   "source": [
    "clf0 = MultinomialNB().fit(train_vectors, train_labels)"
   ]
  },
  {
   "cell_type": "code",
   "execution_count": 19,
   "metadata": {},
   "outputs": [
    {
     "name": "stdout",
     "output_type": "stream",
     "text": [
      "MultinomialNB:\n",
      "              precision    recall  f1-score   support\n",
      "\n",
      "           0       0.76      0.80      0.78     40091\n",
      "           1       0.79      0.75      0.77     39909\n",
      "\n",
      "   micro avg       0.78      0.78      0.78     80000\n",
      "   macro avg       0.78      0.78      0.78     80000\n",
      "weighted avg       0.78      0.78      0.78     80000\n",
      "\n",
      "accuracy: 0.7765875\n"
     ]
    },
    {
     "data": {
      "image/png": "[encoded data removed]",
      "text/plain": [
       "<Figure size 432x288 with 2 Axes>"
      ]
     },
     "metadata": {
      "needs_background": "light"
     },
     "output_type": "display_data"
    },
    {
     "name": "stdout",
     "output_type": "stream",
     "text": [
      "MultinomialNB accuracy: 0.7765875\n"
     ]
    }
   ],
   "source": [
    "ac0, c_m0, rep0=clfr(clf0,train_vectors,train_labels, test_vectors, test_labels,\"MultinomialNB:\" )\n",
    "heatmap(c_m0, \"MultinomialNB\",ac0)"
   ]
  },
  {
   "cell_type": "code",
   "execution_count": 20,
   "metadata": {},
   "outputs": [
    {
     "name": "stdout",
     "output_type": "stream",
     "text": [
      "Decision tree:\n",
      "              precision    recall  f1-score   support\n",
      "\n",
      "           0       0.71      0.71      0.71     40091\n",
      "           1       0.71      0.70      0.71     39909\n",
      "\n",
      "   micro avg       0.71      0.71      0.71     80000\n",
      "   macro avg       0.71      0.71      0.71     80000\n",
      "weighted avg       0.71      0.71      0.71     80000\n",
      "\n",
      "accuracy: 0.7076625\n"
     ]
    },
    {
     "data": {
      "image/png": "[encoded data removed]",
      "text/plain": [
       "<Figure size 432x288 with 2 Axes>"
      ]
     },
     "metadata": {
      "needs_background": "light"
     },
     "output_type": "display_data"
    },
    {
     "name": "stdout",
     "output_type": "stream",
     "text": [
      "Decision tree accuracy: 0.7076625\n"
     ]
    }
   ],
   "source": [
    "clf1 = DecisionTreeClassifier(random_state=0)\n",
    "ac1, c_m1, rep1=clfr(clf1,train_vectors,train_labels, test_vectors, test_labels, \"Decision tree:\" )\n",
    "heatmap(c_m1, \"Decision tree\",ac1)"
   ]
  },
  {
   "cell_type": "code",
   "execution_count": 21,
   "metadata": {},
   "outputs": [
    {
     "name": "stderr",
     "output_type": "stream",
     "text": [
      "C:\\Users\\sattar\\Anaconda3\\lib\\site-packages\\sklearn\\linear_model\\logistic.py:433: FutureWarning: Default solver will be changed to 'lbfgs' in 0.22. Specify a solver to silence this warning.\n",
      "  FutureWarning)\n"
     ]
    },
    {
     "name": "stdout",
     "output_type": "stream",
     "text": [
      "LogisticRegression:\n",
      "              precision    recall  f1-score   support\n",
      "\n",
      "           0       0.80      0.79      0.80     40091\n",
      "           1       0.79      0.81      0.80     39909\n",
      "\n",
      "   micro avg       0.80      0.80      0.80     80000\n",
      "   macro avg       0.80      0.80      0.80     80000\n",
      "weighted avg       0.80      0.80      0.80     80000\n",
      "\n",
      "accuracy: 0.7968\n"
     ]
    },
    {
     "data": {
      "image/png": "[encoded data removed]",
      "text/plain": [
       "<Figure size 432x288 with 2 Axes>"
      ]
     },
     "metadata": {
      "needs_background": "light"
     },
     "output_type": "display_data"
    },
    {
     "name": "stdout",
     "output_type": "stream",
     "text": [
      "LogisticRegression accuracy: 0.7968\n"
     ]
    }
   ],
   "source": [
    "clf3 = LogisticRegression()\n",
    "ac3, c_m3, rep3=clfr(clf3,train_vectors,train_labels, test_vectors, test_labels, \"LogisticRegression:\" )\n",
    "heatmap(c_m3, \"LogisticRegression\",ac3)"
   ]
  },
  {
   "cell_type": "code",
   "execution_count": 22,
   "metadata": {},
   "outputs": [
    {
     "name": "stdout",
     "output_type": "stream",
     "text": [
      "KNN:\n",
      "              precision    recall  f1-score   support\n",
      "\n",
      "           0       0.56      0.92      0.70     40091\n",
      "           1       0.78      0.28      0.41     39909\n",
      "\n",
      "   micro avg       0.60      0.60      0.60     80000\n",
      "   macro avg       0.67      0.60      0.56     80000\n",
      "weighted avg       0.67      0.60      0.56     80000\n",
      "\n",
      "accuracy: 0.6017625\n"
     ]
    },
    {
     "data": {
      "image/png": "[encoded data removed]",
      "text/plain": [
       "<Figure size 432x288 with 2 Axes>"
      ]
     },
     "metadata": {
      "needs_background": "light"
     },
     "output_type": "display_data"
    },
    {
     "name": "stdout",
     "output_type": "stream",
     "text": [
      "KNN accuracy: 0.6017625\n"
     ]
    }
   ],
   "source": [
    "clf4 = KNeighborsClassifier(n_neighbors=3)\n",
    "ac4, c_m4, rep4=clfr(clf4,train_vectors,train_labels, test_vectors, test_labels, \"KNN:\" )\n",
    "heatmap(c_m4, \"KNN\",ac4)"
   ]
  },
  {
   "cell_type": "markdown",
   "metadata": {},
   "source": [
    "clf5 = RandomForestClassifier(n_estimators=50, random_state=0)\n",
    "ac5, c_m5, rep5=clfr(clf5,train_vectors,train_labels, test_vectors, test_labels, \"Random Forest\" )\n",
    "heatmap(c_m5, \"Random Forest\",ac5)"
   ]
  },
  {
   "cell_type": "code",
   "execution_count": 23,
   "metadata": {},
   "outputs": [
    {
     "name": "stdout",
     "output_type": "stream",
     "text": [
      "Random Forest:\n",
      "              precision    recall  f1-score   support\n",
      "\n",
      "           0       0.75      0.78      0.77     40091\n",
      "           1       0.77      0.74      0.76     39909\n",
      "\n",
      "   micro avg       0.76      0.76      0.76     80000\n",
      "   macro avg       0.76      0.76      0.76     80000\n",
      "weighted avg       0.76      0.76      0.76     80000\n",
      "\n",
      "accuracy: 0.7602625\n"
     ]
    },
    {
     "data": {
      "image/png": "[encoded data removed]",
      "text/plain": [
       "<Figure size 432x288 with 2 Axes>"
      ]
     },
     "metadata": {
      "needs_background": "light"
     },
     "output_type": "display_data"
    },
    {
     "name": "stdout",
     "output_type": "stream",
     "text": [
      "Random Forest accuracy: 0.7602625\n"
     ]
    }
   ],
   "source": [
    "\n",
    "clf5 = RandomForestClassifier(n_estimators=15, random_state=0) \n",
    "ac5, c_m5, rep5=clfr(clf5,train_vectors,train_labels, test_vectors, test_labels, \"Random Forest:\" ) \n",
    "heatmap(c_m5, \"Random Forest\",ac5)"
   ]
  },
  {
   "cell_type": "markdown",
   "metadata": {},
   "source": [
    "clf2 = SVC(gamma='auto')\n",
    "ac2, c_m2, rep2=clfr(clf2,train_vectors,train_labels, test_vectors, test_labels, \"SVM\" )\n",
    "heatmap(c_m2, \"SVM\",ac2)"
   ]
  }
 ],
 "metadata": {
  "kernelspec": {
   "display_name": "Python 3 (ipykernel)",
   "language": "python",
   "name": "python3"
  },
  "language_info": {
   "codemirror_mode": {
    "name": "ipython",
    "version": 3
   },
   "file_extension": ".py",
   "mimetype": "text/x-python",
   "name": "python",
   "nbconvert_exporter": "python",
   "pygments_lexer": "ipython3",
   "version": "3.9.12"
  }
 },
 "nbformat": 4,
 "nbformat_minor": 2
}
